{
 "cells": [
  {
   "cell_type": "code",
   "execution_count": 1,
   "id": "c5b51bf7",
   "metadata": {},
   "outputs": [],
   "source": [
    "expectancy_at_birth_list = [76.84878, 81.40732, 77.57895, 74.16341, 68.84907,\n",
    "                            73.88595, 75.26829, 76.26098, 80.57244, 65.46259,\n",
    "                            67.5482,  55.02451, 76.2799,  82.29024, 69.80695,\n",
    "                            81.40112, 82.19756, 74.22683, 80.12888, 45.55095]"
   ]
  },
  {
   "cell_type": "code",
   "execution_count": 2,
   "id": "9ca665c4",
   "metadata": {},
   "outputs": [],
   "source": [
    "no_of_elements = len(expectancy_at_birth_list)"
   ]
  },
  {
   "cell_type": "code",
   "execution_count": 3,
   "id": "8371134c",
   "metadata": {},
   "outputs": [],
   "source": [
    "sum_of_age_element = 0\n",
    "for age in expectancy_at_birth_list:\n",
    "    sum_of_age_element = sum_of_age_element + age\n",
    "average_age = sum_of_age_element / no_of_elements"
   ]
  },
  {
   "cell_type": "code",
   "execution_count": 4,
   "id": "9f8edb8d",
   "metadata": {},
   "outputs": [
    {
     "name": "stdout",
     "output_type": "stream",
     "text": [
      "Average age: 73.237646\n"
     ]
    }
   ],
   "source": [
    "print(\"Average age: \" + str(average_age))"
   ]
  },
  {
   "cell_type": "code",
   "execution_count": 5,
   "id": "93179899",
   "metadata": {},
   "outputs": [],
   "source": [
    "expectancy_at_birth_list.sort()"
   ]
  },
  {
   "cell_type": "code",
   "execution_count": 6,
   "id": "50b13021",
   "metadata": {},
   "outputs": [
    {
     "name": "stdout",
     "output_type": "stream",
     "text": [
      "[45.55095, 55.02451, 65.46259, 67.5482, 68.84907, 69.80695, 73.88595, 74.16341, 74.22683, 75.26829, 76.26098, 76.2799, 76.84878, 77.57895, 80.12888, 80.57244, 81.40112, 81.40732, 82.19756, 82.29024]\n"
     ]
    }
   ],
   "source": [
    "print(expectancy_at_birth_list)"
   ]
  },
  {
   "cell_type": "code",
   "execution_count": 7,
   "id": "a2d8d7f0",
   "metadata": {},
   "outputs": [],
   "source": [
    "num = no_of_elements//2\n",
    "mediana = (expectancy_at_birth_list[num]+expectancy_at_birth_list[num-1])/2"
   ]
  },
  {
   "cell_type": "code",
   "execution_count": 8,
   "id": "7f0fbeea",
   "metadata": {},
   "outputs": [
    {
     "name": "stdout",
     "output_type": "stream",
     "text": [
      "Mediana age: 75.764635\n"
     ]
    }
   ],
   "source": [
    "print(\"Mediana age: \" + str(mediana))"
   ]
  },
  {
   "cell_type": "code",
   "execution_count": 9,
   "id": "aa5e1d4e",
   "metadata": {},
   "outputs": [],
   "source": [
    "###Dominanta nie występuje w układzie"
   ]
  },
  {
   "cell_type": "code",
   "execution_count": 10,
   "id": "45bd650c",
   "metadata": {},
   "outputs": [],
   "source": [
    "suma = 0\n",
    "for age in expectancy_at_birth_list:\n",
    "    b = (age - average_age) ** 2\n",
    "    suma += b\n",
    "wariancja = suma / (len(expectancy_at_birth_list) - 1)"
   ]
  },
  {
   "cell_type": "code",
   "execution_count": 11,
   "id": "1538452e",
   "metadata": {},
   "outputs": [
    {
     "name": "stdout",
     "output_type": "stream",
     "text": [
      "Wariancja: 88.19411239750946\n"
     ]
    }
   ],
   "source": [
    "print(\"Wariancja: \" + str(wariancja))"
   ]
  },
  {
   "cell_type": "code",
   "execution_count": 12,
   "id": "b38b71c7",
   "metadata": {},
   "outputs": [],
   "source": [
    "odchylenie_standardowe = wariancja**(1/2)"
   ]
  },
  {
   "cell_type": "code",
   "execution_count": 13,
   "id": "06789777",
   "metadata": {},
   "outputs": [
    {
     "name": "stdout",
     "output_type": "stream",
     "text": [
      "Odchylenie standardowe wieku: 9.39117204599668\n"
     ]
    }
   ],
   "source": [
    "print (\"Odchylenie standardowe wieku: \"+ str(odchylenie_standardowe))"
   ]
  },
  {
   "cell_type": "code",
   "execution_count": 14,
   "id": "f9948286",
   "metadata": {},
   "outputs": [],
   "source": [
    "fertility_rate_list = [ 1.3, 1.95, 2.466, 1.6, 2.952,\n",
    "                        1.801, 1.34, 1.34, 1.63, 2.326,\n",
    "                        2.436, 6.563, 1.283, 1.43, 1.988,\n",
    "                        1.61, 1.921, 2.4, 1.495, 4.705]"
   ]
  },
  {
   "cell_type": "code",
   "execution_count": 15,
   "id": "7eb1881e",
   "metadata": {},
   "outputs": [],
   "source": [
    "no_of_elements = len(fertility_rate_list)"
   ]
  },
  {
   "cell_type": "code",
   "execution_count": 17,
   "id": "a0c2fbde",
   "metadata": {},
   "outputs": [],
   "source": [
    "sum_of_fertility_element = 0\n",
    "for rate in fertility_rate_list:\n",
    "    sum_of_fertility_element = sum_of_fertility_element + rate"
   ]
  },
  {
   "cell_type": "code",
   "execution_count": 18,
   "id": "cef8e2e0",
   "metadata": {},
   "outputs": [],
   "source": [
    "average_fertility = sum_of_fertility_element / no_of_elements"
   ]
  },
  {
   "cell_type": "code",
   "execution_count": 19,
   "id": "f00910ce",
   "metadata": {},
   "outputs": [
    {
     "name": "stdout",
     "output_type": "stream",
     "text": [
      "Average fertility: 2.2268\n"
     ]
    }
   ],
   "source": [
    "print(\"Average fertility: \" + str(average_fertility))"
   ]
  },
  {
   "cell_type": "code",
   "execution_count": 20,
   "id": "d12d3bc4",
   "metadata": {},
   "outputs": [],
   "source": [
    "sum = 0\n",
    "for age in fertility_rate_list:\n",
    "    c = (age - average_age) ** 2\n",
    "    sum += c\n",
    "wariancja_fertility = sum / (len(fertility_rate_list) - 1)"
   ]
  },
  {
   "cell_type": "code",
   "execution_count": 21,
   "id": "e582cba4",
   "metadata": {},
   "outputs": [
    {
     "name": "stdout",
     "output_type": "stream",
     "text": [
      "Wariancja fertility: 5309.602460732334\n"
     ]
    }
   ],
   "source": [
    "print(\"Wariancja fertility: \" + str(wariancja_fertility))"
   ]
  },
  {
   "cell_type": "code",
   "execution_count": 22,
   "id": "b5d69987",
   "metadata": {},
   "outputs": [],
   "source": [
    "odchylenie_standardowe_fertility = wariancja_fertility ** (1 / 2)"
   ]
  },
  {
   "cell_type": "code",
   "execution_count": 23,
   "id": "5d72392d",
   "metadata": {},
   "outputs": [
    {
     "name": "stdout",
     "output_type": "stream",
     "text": [
      "Odchylenie standardowe fertility: 72.86701901911684\n"
     ]
    }
   ],
   "source": [
    "print(\"Odchylenie standardowe fertility: \" + str(odchylenie_standardowe_fertility))"
   ]
  },
  {
   "cell_type": "code",
   "execution_count": 24,
   "id": "9d3b1d75",
   "metadata": {},
   "outputs": [],
   "source": [
    "expectancy_at_birth_list2 = [76.84878, 81.40732, 77.57895, 74.16341, 68.84907,\n",
    "                             73.88595, 75.26829, 76.26098, 80.57244, 65.46259,\n",
    "                             67.5482, 55.02451, 76.2799, 82.29024, 69.80695,\n",
    "                             81.40112, 82.19756, 74.22683, 80.12888, 45.55095]"
   ]
  },
  {
   "cell_type": "code",
   "execution_count": 25,
   "id": "b529dd66",
   "metadata": {},
   "outputs": [],
   "source": [
    "sum = 0\n",
    "l = len(fertility_rate_list)\n",
    "for i in range(0, l):\n",
    "    sum += (expectancy_at_birth_list2[i] - average_age) * (fertility_rate_list[i] - average_fertility)"
   ]
  },
  {
   "cell_type": "code",
   "execution_count": 26,
   "id": "e0ea105e",
   "metadata": {},
   "outputs": [],
   "source": [
    "result = sum / (l - 1)"
   ]
  },
  {
   "cell_type": "code",
   "execution_count": 27,
   "id": "0c8e4a8a",
   "metadata": {},
   "outputs": [
    {
     "name": "stdout",
     "output_type": "stream",
     "text": [
      "Kowariancja: -9.943704446631578\n"
     ]
    }
   ],
   "source": [
    "print(\"Kowariancja: \" + str(result))"
   ]
  },
  {
   "cell_type": "code",
   "execution_count": 28,
   "id": "6ea85575",
   "metadata": {},
   "outputs": [],
   "source": [
    "wspolczynnik_korelacji = result / (odchylenie_standardowe - odchylenie_standardowe_fertility)"
   ]
  },
  {
   "cell_type": "code",
   "execution_count": 29,
   "id": "401d4692",
   "metadata": {},
   "outputs": [
    {
     "name": "stdout",
     "output_type": "stream",
     "text": [
      "Współczynnik korelacji: 0.1566533558952336\n"
     ]
    }
   ],
   "source": [
    "print(\"Współczynnik korelacji: \" + str(wspolczynnik_korelacji))"
   ]
  },
  {
   "cell_type": "code",
   "execution_count": 31,
   "id": "1b25a1b2",
   "metadata": {},
   "outputs": [],
   "source": [
    "### 0,1<|r|≤0,3 – korelacja słaba\n",
    "##  Korelacja słaba - wskazuje na fakt, że dobrze się rozmnażać i poprawia to długość życia \n",
    "#   ale bez przesady i z umiarem ;)"
   ]
  },
  {
   "cell_type": "code",
   "execution_count": 32,
   "id": "4064524d",
   "metadata": {},
   "outputs": [],
   "source": [
    "x = poziom_istotnosci = 0.05\n",
    "y = ochylenie_pop = 9.09\n",
    "przedzial_ufnosci = average_age - x * (y / (no_of_elements ** (1 / 2))), \\\n",
    "                    average_age + x * (y / (no_of_elements ** (1 / 2)))"
   ]
  },
  {
   "cell_type": "code",
   "execution_count": 33,
   "id": "2a0e5bfd",
   "metadata": {},
   "outputs": [
    {
     "name": "stdout",
     "output_type": "stream",
     "text": [
      "przedział ufności: (73.13601671042264, 73.33927528957736)\n",
      "73.237646\n"
     ]
    }
   ],
   "source": [
    "print(\"przedział ufności: \" + str(przedzial_ufnosci))\n",
    "print(average_age)"
   ]
  },
  {
   "cell_type": "code",
   "execution_count": 34,
   "id": "40e18228",
   "metadata": {},
   "outputs": [
    {
     "name": "stdout",
     "output_type": "stream",
     "text": [
      "0.10162928957736028\n",
      "-0.10162928957736028\n"
     ]
    }
   ],
   "source": [
    "# check \n",
    "w = average_age - (average_age - x * (y / (no_of_elements ** (1 / 2))))\n",
    "print(w)\n",
    "\n",
    "w1 = average_age - (average_age + x * (y / (no_of_elements ** (1 / 2))))\n",
    "print(w1)"
   ]
  },
  {
   "cell_type": "code",
   "execution_count": 35,
   "id": "760d5d8b",
   "metadata": {},
   "outputs": [
    {
     "name": "stdout",
     "output_type": "stream",
     "text": [
      "Wartość ze znormalizowanego rozkładu normalnego odpowiadająca poziomowi istotności 0,05 wynosi: 0.10162928957736028\n"
     ]
    }
   ],
   "source": [
    "print(\"Wartość ze znormalizowanego rozkładu normalnego odpowiadająca poziomowi istotności 0,05 wynosi: \" + str(w))"
   ]
  },
  {
   "cell_type": "code",
   "execution_count": null,
   "id": "f29d69c6",
   "metadata": {},
   "outputs": [],
   "source": []
  }
 ],
 "metadata": {
  "kernelspec": {
   "display_name": "Python 3 (ipykernel)",
   "language": "python",
   "name": "python3"
  },
  "language_info": {
   "codemirror_mode": {
    "name": "ipython",
    "version": 3
   },
   "file_extension": ".py",
   "mimetype": "text/x-python",
   "name": "python",
   "nbconvert_exporter": "python",
   "pygments_lexer": "ipython3",
   "version": "3.9.4"
  }
 },
 "nbformat": 4,
 "nbformat_minor": 5
}
