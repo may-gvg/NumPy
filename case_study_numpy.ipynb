{
 "cells": [
  {
   "cell_type": "code",
   "execution_count": 2,
   "id": "ecf111ef",
   "metadata": {},
   "outputs": [],
   "source": [
    "import numpy as np"
   ]
  },
  {
   "cell_type": "code",
   "execution_count": 3,
   "id": "3237e972",
   "metadata": {},
   "outputs": [],
   "source": [
    "import numpy_financial as npf"
   ]
  },
  {
   "cell_type": "code",
   "execution_count": 4,
   "id": "eacb76a1",
   "metadata": {},
   "outputs": [],
   "source": [
    "import matplotlib.pyplot as plt"
   ]
  },
  {
   "cell_type": "code",
   "execution_count": 5,
   "id": "fdc357f7",
   "metadata": {},
   "outputs": [],
   "source": [
    "freq = 12\n",
    "rate = 0.0675\n",
    "years = 30\n",
    "pv = 200000\n",
    "\n",
    "rate /= freq  # konwersja stopy do okresu miesięcznego\n",
    "nper = years * freq  # liczba wszystkich okresów"
   ]
  },
  {
   "cell_type": "code",
   "execution_count": 6,
   "id": "70d740ee",
   "metadata": {},
   "outputs": [],
   "source": [
    "periods = np.arange(1,nper+1,dtype=int)"
   ]
  },
  {
   "cell_type": "code",
   "execution_count": 7,
   "id": "f4553c71",
   "metadata": {},
   "outputs": [
    {
     "data": {
      "text/plain": [
       "array([1125.  , 1124.03, 1123.06, 1122.08, 1121.09, 1120.1 , 1119.11,\n",
       "       1118.1 , 1117.1 , 1116.08])"
      ]
     },
     "execution_count": 7,
     "metadata": {},
     "output_type": "execute_result"
    }
   ],
   "source": [
    "interest_equal = - np.around(npf.ipmt(rate,periods,nper,pv),2)\n",
    "interest_equal[:10]"
   ]
  },
  {
   "cell_type": "code",
   "execution_count": 8,
   "id": "6e6a3ff2",
   "metadata": {},
   "outputs": [
    {
     "data": {
      "text/plain": [
       "array([555.56, 555.56, 555.56, 555.56, 555.56, 555.56, 555.56, 555.56,\n",
       "       555.56, 555.56])"
      ]
     },
     "execution_count": 8,
     "metadata": {},
     "output_type": "execute_result"
    }
   ],
   "source": [
    "np.set_printoptions(suppress=True)\n",
    "\n",
    "principal_decreasing = np.around(np.zeros(nper)+(pv/nper),2)\n",
    "principal_decreasing[:10]"
   ]
  },
  {
   "cell_type": "code",
   "execution_count": 9,
   "id": "21975837",
   "metadata": {},
   "outputs": [
    {
     "data": {
      "text/plain": [
       "array([199444.44, 198888.88, 198333.32,   1109.52,    553.96,     -1.6 ])"
      ]
     },
     "execution_count": 9,
     "metadata": {},
     "output_type": "execute_result"
    }
   ],
   "source": [
    "balance = np.zeros(nper) + pv\n",
    "balance_close = np.around(balance - np.cumsum(principal_decreasing),2)\n",
    "balance_close[[0,1,2,-3,-2,-1]]"
   ]
  },
  {
   "cell_type": "code",
   "execution_count": 10,
   "id": "7dc26e69",
   "metadata": {},
   "outputs": [
    {
     "data": {
      "text/plain": [
       "array([ 555.56, 1111.12, 1666.68, 2222.24, 2777.8 , 3333.36, 3888.92,\n",
       "       4444.48, 5000.04, 5555.6 ])"
      ]
     },
     "execution_count": 10,
     "metadata": {},
     "output_type": "execute_result"
    }
   ],
   "source": [
    "np.cumsum(principal_decreasing)[:10]"
   ]
  },
  {
   "cell_type": "code",
   "execution_count": 11,
   "id": "898b6a7b",
   "metadata": {},
   "outputs": [],
   "source": [
    "balance_open = balance_close + principal_decreasing"
   ]
  },
  {
   "cell_type": "code",
   "execution_count": 12,
   "id": "dca86b3d",
   "metadata": {},
   "outputs": [
    {
     "data": {
      "text/plain": [
       "array([1125.  , 1121.87, 1118.75, 1115.62, 1112.5 , 1109.37, 1106.25,\n",
       "       1103.12, 1100.  , 1096.87])"
      ]
     },
     "execution_count": 12,
     "metadata": {},
     "output_type": "execute_result"
    }
   ],
   "source": [
    "interest_decreasing = np.around(balance_open * rate,2)\n",
    "interest_decreasing[:10]"
   ]
  },
  {
   "cell_type": "code",
   "execution_count": 13,
   "id": "15af8f20",
   "metadata": {},
   "outputs": [
    {
     "data": {
      "text/plain": [
       "Text(0, 0.5, 'Skumulowana wartość odsetek')"
      ]
     },
     "execution_count": 13,
     "metadata": {},
     "output_type": "execute_result"
    },
    {
     "data": {
      "image/png": "[encoded data removed]",
      "text/plain": [
       "<Figure size 432x288 with 1 Axes>"
      ]
     },
     "metadata": {
      "needs_background": "light"
     },
     "output_type": "display_data"
    }
   ],
   "source": [
    "plt.plot(interest_equal.cumsum(),label='raty równe')\n",
    "plt.plot(interest_decreasing.cumsum(),label='raty malejące')\n",
    "plt.legend()\n",
    "plt.xlabel('Liczba okresów')\n",
    "plt.ylabel('Skumulowana wartość odsetek')"
   ]
  },
  {
   "cell_type": "code",
   "execution_count": 14,
   "id": "829715d8",
   "metadata": {},
   "outputs": [],
   "source": [
    "##Zadanie: kupujemy mieszkanie"
   ]
  },
  {
   "cell_type": "code",
   "execution_count": 15,
   "id": "a3bbc784",
   "metadata": {},
   "outputs": [],
   "source": [
    "#Zamierzasz kupić mieszkanie. Upatrzone M kosztuje w tym momencie 120 tys. zł, jednak przewidujesz, że przez następne 5 lat\n",
    "#ceny mieszkań będą rosły w tempie 5% rocznie. W tym momencie nie dysponujesz wystarczającymi środkami, dlatego znajdujesz \n",
    "#ofertę banku, który proponuje lokatę, do której dopłacasz pewna stałą kwotę na koniec każdego miesiąca. \n",
    "\n",
    "#Bank oferuje nominalną stopę procentową w wysokości 12% w skali roku, przy kapitalizacji miesięcznej.\n",
    "\n",
    "#1. Ile będzie wynosiła orientacyjna cena mieszkania za 5 lat?\n",
    "#2. Ile musisz wpłacać do banku każdego miesiąca, aby przy przedstawionej ofercie uzbierać na mieszkanie w ciągu 5 lat?\n",
    "#3. Stwórz wykres przedstawiający, jak w interwałach miesięcznych zmieniać się będzie cena mieszkania \n",
    "# (liniowy wzrost w całym okresie) oraz wartość twojej lokaty.\n",
    "\n"
   ]
  },
  {
   "cell_type": "code",
   "execution_count": 16,
   "id": "34326c3f",
   "metadata": {},
   "outputs": [],
   "source": [
    "\n",
    "#    kapitalizacja odsetek i płatności z tytułu raty – 12 razy w roku, przez 5 lat\n",
    "#    nominalna stopa procentowa 12,00% w skali roku\n",
    "#    okres lokowania – 5 lat\n",
    "#    cena mieszkania dzisiaj 120 000 zł\n",
    "#    wzrost ceny mieszkania 5 % w skali roku \n"
   ]
  },
  {
   "cell_type": "code",
   "execution_count": 17,
   "id": "aae420fe",
   "metadata": {},
   "outputs": [],
   "source": [
    "#1. Ile będzie wynosiła orientacyjna cena mieszkania za 5 lat?"
   ]
  },
  {
   "cell_type": "code",
   "execution_count": 18,
   "id": "8b3a126f",
   "metadata": {},
   "outputs": [],
   "source": [
    "freq = 12\n",
    "rate = 0.05\n",
    "years = 5\n",
    "pv = 120000\n",
    "\n",
    "rate /= freq  # konwersja stopy do okresu miesięcznego\n",
    "nper = years * freq  # liczba wszystkich okresów"
   ]
  },
  {
   "cell_type": "code",
   "execution_count": 19,
   "id": "20c4c7bb",
   "metadata": {},
   "outputs": [
    {
     "name": "stdout",
     "output_type": "stream",
     "text": [
      "-2265\n"
     ]
    }
   ],
   "source": [
    "interest_rate= 0.05/12\n",
    "mortgage_amount= 120000\n",
    "n_periods = 5*12\n",
    "m_payment = npf.pmt(interest_rate, n_periods, mortgage_amount)\n",
    "print(round(m_payment))"
   ]
  },
  {
   "cell_type": "code",
   "execution_count": 20,
   "id": "62ebdf90",
   "metadata": {},
   "outputs": [],
   "source": [
    "m = 2265 * 12 * 5"
   ]
  },
  {
   "cell_type": "code",
   "execution_count": 21,
   "id": "ceef2fbe",
   "metadata": {},
   "outputs": [
    {
     "data": {
      "text/plain": [
       "135900"
      ]
     },
     "execution_count": 21,
     "metadata": {},
     "output_type": "execute_result"
    }
   ],
   "source": [
    "m"
   ]
  },
  {
   "cell_type": "code",
   "execution_count": 22,
   "id": "0356924c",
   "metadata": {},
   "outputs": [],
   "source": [
    "# Ile musisz wpłacać do banku każdego miesiąca, aby przy przedstawionej ofercie uzbierać na mieszkanie w ciągu 5 lat?"
   ]
  },
  {
   "cell_type": "code",
   "execution_count": 23,
   "id": "d5e8cadb",
   "metadata": {},
   "outputs": [
    {
     "data": {
      "text/plain": [
       "-1664.0204403781495"
      ]
     },
     "execution_count": 23,
     "metadata": {},
     "output_type": "execute_result"
    }
   ],
   "source": [
    "npf.pmt(0.12/12, 12*5, 0, 135900, when='end')"
   ]
  },
  {
   "cell_type": "code",
   "execution_count": 24,
   "id": "5127b246",
   "metadata": {},
   "outputs": [],
   "source": [
    "# Stwórz wykres przedstawiający, jak w interwałach miesięcznych zmieniać się będzie cena mieszkania\n",
    "#(liniowy wzrost w całym okresie) oraz wartość twojej lokaty."
   ]
  },
  {
   "cell_type": "code",
   "execution_count": null,
   "id": "e2431b54",
   "metadata": {},
   "outputs": [],
   "source": []
  }
 ],
 "metadata": {
  "kernelspec": {
   "display_name": "Python 3 (ipykernel)",
   "language": "python",
   "name": "python3"
  },
  "language_info": {
   "codemirror_mode": {
    "name": "ipython",
    "version": 3
   },
   "file_extension": ".py",
   "mimetype": "text/x-python",
   "name": "python",
   "nbconvert_exporter": "python",
   "pygments_lexer": "ipython3",
   "version": "3.9.4"
  }
 },
 "nbformat": 4,
 "nbformat_minor": 5
}
