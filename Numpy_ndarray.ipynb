{
 "cells": [
  {
   "cell_type": "code",
   "execution_count": 1,
   "id": "ebb775ee",
   "metadata": {},
   "outputs": [
    {
     "data": {
      "text/plain": [
       "array([ 0,  1,  2,  3,  4,  5,  6,  7,  8,  9, 10, 11, 12, 13, 14, 15, 16,\n",
       "       17, 18, 19, 20])"
      ]
     },
     "execution_count": 1,
     "metadata": {},
     "output_type": "execute_result"
    }
   ],
   "source": [
    "import numpy as np\n",
    "my_arr = np.arange(21)\n",
    "my_arr"
   ]
  },
  {
   "cell_type": "code",
   "execution_count": 2,
   "id": "1c4331ad",
   "metadata": {},
   "outputs": [
    {
     "data": {
      "text/plain": [
       "10"
      ]
     },
     "execution_count": 2,
     "metadata": {},
     "output_type": "execute_result"
    }
   ],
   "source": [
    "my_arr[10]"
   ]
  },
  {
   "cell_type": "code",
   "execution_count": 3,
   "id": "96d59f70",
   "metadata": {},
   "outputs": [
    {
     "data": {
      "text/plain": [
       "array([ 5,  6,  7,  8,  9, 10, 11, 12, 13, 14])"
      ]
     },
     "execution_count": 3,
     "metadata": {},
     "output_type": "execute_result"
    }
   ],
   "source": [
    "my_arr[5:15]"
   ]
  },
  {
   "cell_type": "code",
   "execution_count": 4,
   "id": "d1faadbe",
   "metadata": {},
   "outputs": [
    {
     "data": {
      "text/plain": [
       "array([ 5, 10])"
      ]
     },
     "execution_count": 4,
     "metadata": {},
     "output_type": "execute_result"
    }
   ],
   "source": [
    "my_arr[5:15:5]"
   ]
  },
  {
   "cell_type": "code",
   "execution_count": 5,
   "id": "27e22560",
   "metadata": {},
   "outputs": [
    {
     "data": {
      "text/plain": [
       "array([[  0,  10,  20],\n",
       "       [  5,  15,  25],\n",
       "       [100, 200, 300]])"
      ]
     },
     "execution_count": 5,
     "metadata": {},
     "output_type": "execute_result"
    }
   ],
   "source": [
    "two_dim = np.array([[0,10,20],[5,15,25],[100,200,300]])\n",
    "two_dim"
   ]
  },
  {
   "cell_type": "code",
   "execution_count": 6,
   "id": "15f6818f",
   "metadata": {},
   "outputs": [
    {
     "data": {
      "text/plain": [
       "array([ 0, 10, 20])"
      ]
     },
     "execution_count": 6,
     "metadata": {},
     "output_type": "execute_result"
    }
   ],
   "source": [
    "# wyciagi info z 1 wiersza indexing od 0 \n",
    "two_dim[0]"
   ]
  },
  {
   "cell_type": "code",
   "execution_count": 7,
   "id": "d78127c0",
   "metadata": {},
   "outputs": [
    {
     "data": {
      "text/plain": [
       "array([ 5, 15, 25])"
      ]
     },
     "execution_count": 7,
     "metadata": {},
     "output_type": "execute_result"
    }
   ],
   "source": [
    "two_dim[1]"
   ]
  },
  {
   "cell_type": "code",
   "execution_count": 8,
   "id": "e3be4ff0",
   "metadata": {},
   "outputs": [
    {
     "data": {
      "text/plain": [
       "5"
      ]
     },
     "execution_count": 8,
     "metadata": {},
     "output_type": "execute_result"
    }
   ],
   "source": [
    "# [najpierw wiersz] [potem kolumna]\n",
    "two_dim[1][0]"
   ]
  },
  {
   "cell_type": "code",
   "execution_count": 9,
   "id": "c18dbe0b",
   "metadata": {},
   "outputs": [
    {
     "data": {
      "text/plain": [
       "array([[  5,  15],\n",
       "       [100, 200]])"
      ]
     },
     "execution_count": 9,
     "metadata": {},
     "output_type": "execute_result"
    }
   ],
   "source": [
    "#skrócenie wymiaru \n",
    "two_dim[1:3,:2]"
   ]
  },
  {
   "cell_type": "code",
   "execution_count": 10,
   "id": "780f0373",
   "metadata": {},
   "outputs": [
    {
     "data": {
      "text/plain": [
       "array([[  5,  15,  25],\n",
       "       [100, 200, 300]])"
      ]
     },
     "execution_count": 10,
     "metadata": {},
     "output_type": "execute_result"
    }
   ],
   "source": [
    "two_dim[1:3]"
   ]
  },
  {
   "cell_type": "code",
   "execution_count": 11,
   "id": "82afb099",
   "metadata": {},
   "outputs": [],
   "source": [
    "#fancy indexing"
   ]
  },
  {
   "cell_type": "code",
   "execution_count": 12,
   "id": "27fd14df",
   "metadata": {},
   "outputs": [
    {
     "data": {
      "text/plain": [
       "array([[ 0,  1,  2,  3,  4],\n",
       "       [ 5,  6,  7,  8,  9],\n",
       "       [10, 11, 12, 13, 14],\n",
       "       [15, 16, 17, 18, 19],\n",
       "       [20, 21, 22, 23, 24]])"
      ]
     },
     "execution_count": 12,
     "metadata": {},
     "output_type": "execute_result"
    }
   ],
   "source": [
    "my_arr = np.arange(25).reshape(5,5)\n",
    "my_arr"
   ]
  },
  {
   "cell_type": "code",
   "execution_count": 13,
   "id": "36294e86",
   "metadata": {},
   "outputs": [
    {
     "data": {
      "text/plain": [
       "1"
      ]
     },
     "execution_count": 13,
     "metadata": {},
     "output_type": "execute_result"
    }
   ],
   "source": [
    "my_arr[(0,1)]"
   ]
  },
  {
   "cell_type": "code",
   "execution_count": 14,
   "id": "1a7a0987",
   "metadata": {},
   "outputs": [
    {
     "data": {
      "text/plain": [
       "array([[0, 1, 2, 3, 4],\n",
       "       [5, 6, 7, 8, 9]])"
      ]
     },
     "execution_count": 14,
     "metadata": {},
     "output_type": "execute_result"
    }
   ],
   "source": [
    "my_arr[(0,1),]"
   ]
  },
  {
   "cell_type": "code",
   "execution_count": 15,
   "id": "ad0edda3",
   "metadata": {},
   "outputs": [
    {
     "data": {
      "text/plain": [
       "array([0, 9])"
      ]
     },
     "execution_count": 15,
     "metadata": {},
     "output_type": "execute_result"
    }
   ],
   "source": [
    "my_arr[[0,1],[0,4]]"
   ]
  },
  {
   "cell_type": "code",
   "execution_count": 16,
   "id": "931bd66a",
   "metadata": {},
   "outputs": [
    {
     "data": {
      "text/plain": [
       "array([[0, 2, 2],\n",
       "       [0, 2, 0],\n",
       "       [2, 1, 2],\n",
       "       [1, 1, 0]])"
      ]
     },
     "execution_count": 16,
     "metadata": {},
     "output_type": "execute_result"
    }
   ],
   "source": [
    "vals = np.array([100,5,0])\n",
    "select = np.random.randint(0,3,size=(4,3))\n",
    "select"
   ]
  },
  {
   "cell_type": "code",
   "execution_count": 17,
   "id": "564d6f9b",
   "metadata": {},
   "outputs": [
    {
     "data": {
      "text/plain": [
       "array([[100,   0,   0],\n",
       "       [100,   0, 100],\n",
       "       [  0,   5,   0],\n",
       "       [  5,   5, 100]])"
      ]
     },
     "execution_count": 17,
     "metadata": {},
     "output_type": "execute_result"
    }
   ],
   "source": [
    "vals[select]"
   ]
  },
  {
   "cell_type": "code",
   "execution_count": 18,
   "id": "d06d151a",
   "metadata": {},
   "outputs": [
    {
     "data": {
      "text/plain": [
       "array([0, 1, 2, 3, 4, 5, 6, 7, 8, 9])"
      ]
     },
     "execution_count": 18,
     "metadata": {},
     "output_type": "execute_result"
    }
   ],
   "source": [
    "arr = np.arange(10)\n",
    "arr"
   ]
  },
  {
   "cell_type": "code",
   "execution_count": 19,
   "id": "5990f553",
   "metadata": {},
   "outputs": [
    {
     "data": {
      "text/plain": [
       "array([0, 1, 2, 3, 4])"
      ]
     },
     "execution_count": 19,
     "metadata": {},
     "output_type": "execute_result"
    }
   ],
   "source": [
    "slice_of_arr = arr[:5]\n",
    "slice_of_arr"
   ]
  },
  {
   "cell_type": "code",
   "execution_count": 20,
   "id": "279a870d",
   "metadata": {},
   "outputs": [
    {
     "data": {
      "text/plain": [
       "array([100, 100, 100, 100, 100])"
      ]
     },
     "execution_count": 20,
     "metadata": {},
     "output_type": "execute_result"
    }
   ],
   "source": [
    "slice_of_arr[:] = 100\n",
    "slice_of_arr"
   ]
  },
  {
   "cell_type": "code",
   "execution_count": 21,
   "id": "e84767c6",
   "metadata": {},
   "outputs": [
    {
     "data": {
      "text/plain": [
       "array([100, 100, 100, 100, 100,   5,   6,   7,   8,   9])"
      ]
     },
     "execution_count": 21,
     "metadata": {},
     "output_type": "execute_result"
    }
   ],
   "source": [
    "arr"
   ]
  },
  {
   "cell_type": "code",
   "execution_count": 22,
   "id": "2a4f6811",
   "metadata": {},
   "outputs": [
    {
     "data": {
      "text/plain": [
       "array([0, 1, 2, 3, 4, 5, 6, 7, 8, 9])"
      ]
     },
     "execution_count": 22,
     "metadata": {},
     "output_type": "execute_result"
    }
   ],
   "source": [
    "fancy_arr = np.arange(10)\n",
    "fancy_arr"
   ]
  },
  {
   "cell_type": "code",
   "execution_count": 23,
   "id": "cfdb40ef",
   "metadata": {},
   "outputs": [
    {
     "data": {
      "text/plain": [
       "array([0, 1, 2, 3, 4])"
      ]
     },
     "execution_count": 23,
     "metadata": {},
     "output_type": "execute_result"
    }
   ],
   "source": [
    "fancy_index_arr = fancy_arr[np.arange(5)]\n",
    "fancy_index_arr"
   ]
  },
  {
   "cell_type": "code",
   "execution_count": 24,
   "id": "802eddc0",
   "metadata": {},
   "outputs": [
    {
     "data": {
      "text/plain": [
       "array([100, 100, 100, 100, 100])"
      ]
     },
     "execution_count": 24,
     "metadata": {},
     "output_type": "execute_result"
    }
   ],
   "source": [
    "fancy_index_arr[:] = 100\n",
    "fancy_index_arr"
   ]
  },
  {
   "cell_type": "code",
   "execution_count": 25,
   "id": "905c2f83",
   "metadata": {},
   "outputs": [
    {
     "data": {
      "text/plain": [
       "array([0, 1, 2, 3, 4, 5, 6, 7, 8, 9])"
      ]
     },
     "execution_count": 25,
     "metadata": {},
     "output_type": "execute_result"
    }
   ],
   "source": [
    "fancy_arr"
   ]
  },
  {
   "cell_type": "code",
   "execution_count": 26,
   "id": "d4a8349b",
   "metadata": {},
   "outputs": [
    {
     "data": {
      "text/plain": [
       "False"
      ]
     },
     "execution_count": 26,
     "metadata": {},
     "output_type": "execute_result"
    }
   ],
   "source": [
    "slice_of_arr.base is None"
   ]
  },
  {
   "cell_type": "code",
   "execution_count": 27,
   "id": "ea466c87",
   "metadata": {},
   "outputs": [
    {
     "data": {
      "text/plain": [
       "True"
      ]
     },
     "execution_count": 27,
     "metadata": {},
     "output_type": "execute_result"
    }
   ],
   "source": [
    "fancy_index_arr.base is None"
   ]
  },
  {
   "cell_type": "code",
   "execution_count": 28,
   "id": "f4ea18d4",
   "metadata": {},
   "outputs": [
    {
     "data": {
      "text/plain": [
       "True"
      ]
     },
     "execution_count": 28,
     "metadata": {},
     "output_type": "execute_result"
    }
   ],
   "source": [
    "slice_of_arr.base is arr"
   ]
  },
  {
   "cell_type": "code",
   "execution_count": 29,
   "id": "42b36eb7",
   "metadata": {},
   "outputs": [
    {
     "name": "stdout",
     "output_type": "stream",
     "text": [
      "arr\n",
      "[0 1 2 3 4 5 6 7 8 9]\n",
      "slice_of_arr\n",
      "[0 1 2 3 4]\n",
      "slice_of_arr\n",
      "[100 100 100 100 100]\n",
      "arr\n",
      "[0 1 2 3 4 5 6 7 8 9]\n"
     ]
    }
   ],
   "source": [
    "arr = np.arange(10)\n",
    "print('arr')\n",
    "print(arr)\n",
    "\n",
    "slice_of_arr = arr[:5].copy()\n",
    "print('slice_of_arr')\n",
    "print(slice_of_arr)\n",
    "\n",
    "slice_of_arr[:] = 100\n",
    "print('slice_of_arr')\n",
    "print(slice_of_arr)\n",
    "\n",
    "print('arr')\n",
    "print(arr)"
   ]
  },
  {
   "cell_type": "code",
   "execution_count": 30,
   "id": "ce21091f",
   "metadata": {},
   "outputs": [
    {
     "data": {
      "text/plain": [
       "False"
      ]
     },
     "execution_count": 30,
     "metadata": {},
     "output_type": "execute_result"
    }
   ],
   "source": [
    "slice_of_arr is arr"
   ]
  },
  {
   "cell_type": "code",
   "execution_count": 31,
   "id": "9fd77669",
   "metadata": {},
   "outputs": [],
   "source": [
    "# Znajdź indeksy niezerowych elementów z tablicy array([1,2,0,0,4,0])"
   ]
  },
  {
   "cell_type": "code",
   "execution_count": 32,
   "id": "c73758bc",
   "metadata": {},
   "outputs": [
    {
     "name": "stdout",
     "output_type": "stream",
     "text": [
      "[0, 1, 4]\n"
     ]
    }
   ],
   "source": [
    "arr = ([1, 2, 0, 0, 4, 0])\n",
    "index_no = []\n",
    "for i in range(len(arr)):\n",
    "    if arr[i] != 0:\n",
    "        index_no.append(i)\n",
    "print(index_no)"
   ]
  },
  {
   "cell_type": "code",
   "execution_count": 33,
   "id": "19c90b10",
   "metadata": {},
   "outputs": [
    {
     "data": {
      "text/plain": [
       "array([ 0,  5, 10, 15, 20, 25, 30, 35, 40, 45])"
      ]
     },
     "execution_count": 33,
     "metadata": {},
     "output_type": "execute_result"
    }
   ],
   "source": [
    "arr = np.arange(0,50,5)\n",
    "arr"
   ]
  },
  {
   "cell_type": "code",
   "execution_count": 34,
   "id": "1e9cd067",
   "metadata": {},
   "outputs": [
    {
     "data": {
      "text/plain": [
       "array([False, False, False, False,  True,  True,  True,  True,  True,\n",
       "        True])"
      ]
     },
     "execution_count": 34,
     "metadata": {},
     "output_type": "execute_result"
    }
   ],
   "source": [
    "arr>15"
   ]
  },
  {
   "cell_type": "code",
   "execution_count": 35,
   "id": "c46441ec",
   "metadata": {},
   "outputs": [
    {
     "data": {
      "text/plain": [
       "array([20, 25, 30, 35, 40, 45])"
      ]
     },
     "execution_count": 35,
     "metadata": {},
     "output_type": "execute_result"
    }
   ],
   "source": [
    "arr[arr>15]"
   ]
  },
  {
   "cell_type": "code",
   "execution_count": 36,
   "id": "d2e45162",
   "metadata": {},
   "outputs": [
    {
     "data": {
      "text/plain": [
       "array([False, False, False, False,  True,  True,  True,  True, False,\n",
       "        True])"
      ]
     },
     "execution_count": 36,
     "metadata": {},
     "output_type": "execute_result"
    }
   ],
   "source": [
    "(arr>15) & (arr!=40)"
   ]
  },
  {
   "cell_type": "code",
   "execution_count": 37,
   "id": "44ede6fc",
   "metadata": {},
   "outputs": [
    {
     "data": {
      "text/plain": [
       "array([20, 25, 30, 35, 45])"
      ]
     },
     "execution_count": 37,
     "metadata": {},
     "output_type": "execute_result"
    }
   ],
   "source": [
    "arr[(arr>15) & (arr!=40)]"
   ]
  },
  {
   "cell_type": "code",
   "execution_count": 38,
   "id": "baed17e6",
   "metadata": {},
   "outputs": [
    {
     "data": {
      "text/plain": [
       "array([ True,  True, False, False,  True,  True,  True,  True,  True,\n",
       "        True])"
      ]
     },
     "execution_count": 38,
     "metadata": {},
     "output_type": "execute_result"
    }
   ],
   "source": [
    "(arr<10) | (arr>=20)"
   ]
  },
  {
   "cell_type": "code",
   "execution_count": 39,
   "id": "7f540fd2",
   "metadata": {},
   "outputs": [
    {
     "data": {
      "text/plain": [
       "array([ 0,  5, 20, 25, 30, 35, 40, 45])"
      ]
     },
     "execution_count": 39,
     "metadata": {},
     "output_type": "execute_result"
    }
   ],
   "source": [
    "arr[(arr<10) | (arr>=20)]"
   ]
  },
  {
   "cell_type": "code",
   "execution_count": 40,
   "id": "04ab9297",
   "metadata": {},
   "outputs": [
    {
     "data": {
      "text/plain": [
       "array([ True,  True, False, False,  True,  True,  True,  True,  True,\n",
       "        True])"
      ]
     },
     "execution_count": 40,
     "metadata": {},
     "output_type": "execute_result"
    }
   ],
   "source": [
    "np.logical_or(arr<10,arr>=20)"
   ]
  },
  {
   "cell_type": "code",
   "execution_count": 41,
   "id": "f6e14530",
   "metadata": {},
   "outputs": [
    {
     "data": {
      "text/plain": [
       "array([ 0,  5, 20, 25, 30, 35, 40, 45])"
      ]
     },
     "execution_count": 41,
     "metadata": {},
     "output_type": "execute_result"
    }
   ],
   "source": [
    "arr[np.logical_or(arr<10,arr>=20)]"
   ]
  },
  {
   "cell_type": "code",
   "execution_count": 42,
   "id": "9b24ea77",
   "metadata": {},
   "outputs": [
    {
     "data": {
      "text/plain": [
       "(array([0, 1, 2, 3, 4, 5, 6, 7, 8], dtype=int64),)"
      ]
     },
     "execution_count": 42,
     "metadata": {},
     "output_type": "execute_result"
    }
   ],
   "source": [
    "np.where(arr<=43)"
   ]
  },
  {
   "cell_type": "code",
   "execution_count": 43,
   "id": "557e7e33",
   "metadata": {},
   "outputs": [],
   "source": [
    "#Ćwiczenia\n",
    "#Wyfiltruj z arr tylko te wartości, które są mniejsze od 10 lub większe bądź równe 20, \n",
    "#ale jednocześnie różne od liczby 40. (gdzie arr = np.arange(0,50,5)).\n"
   ]
  },
  {
   "cell_type": "code",
   "execution_count": 44,
   "id": "3b5b9d64",
   "metadata": {},
   "outputs": [
    {
     "data": {
      "text/plain": [
       "array([ 0,  5, 10, 15, 20, 25, 30, 35, 40, 45])"
      ]
     },
     "execution_count": 44,
     "metadata": {},
     "output_type": "execute_result"
    }
   ],
   "source": [
    "arr = np.arange(0,50,5)\n",
    "arr"
   ]
  },
  {
   "cell_type": "code",
   "execution_count": 45,
   "id": "eee30f17",
   "metadata": {},
   "outputs": [
    {
     "data": {
      "text/plain": [
       "array([ True,  True, False, False,  True,  True,  True,  True, False,\n",
       "        True])"
      ]
     },
     "execution_count": 45,
     "metadata": {},
     "output_type": "execute_result"
    }
   ],
   "source": [
    "np.logical_or(arr<10,arr>=20)& (arr!=40)"
   ]
  },
  {
   "cell_type": "code",
   "execution_count": 46,
   "id": "cb43e641",
   "metadata": {},
   "outputs": [
    {
     "data": {
      "text/plain": [
       "array([ 0,  5, 20, 25, 30, 35, 45])"
      ]
     },
     "execution_count": 46,
     "metadata": {},
     "output_type": "execute_result"
    }
   ],
   "source": [
    "arr[np.logical_or(arr<10,arr>=20)& (arr!=40)]"
   ]
  },
  {
   "cell_type": "code",
   "execution_count": 47,
   "id": "695752f9",
   "metadata": {},
   "outputs": [],
   "source": [
    "\n",
    "#Wykorzystując operator XOR, stwórz macierz o kształcie (4,4), \n",
    "# której elementy po głównej przekątnej mają wartość logiczną False, a pozostałe wartość True."
   ]
  },
  {
   "cell_type": "code",
   "execution_count": 48,
   "id": "0875d5e8",
   "metadata": {},
   "outputs": [],
   "source": [
    "arr = np.arange(16).reshape(4, 4)"
   ]
  },
  {
   "cell_type": "code",
   "execution_count": 49,
   "id": "13acb52b",
   "metadata": {},
   "outputs": [
    {
     "data": {
      "text/plain": [
       "array([[ 0,  1,  2,  3],\n",
       "       [ 4,  5,  6,  7],\n",
       "       [ 8,  9, 10, 11],\n",
       "       [12, 13, 14, 15]])"
      ]
     },
     "execution_count": 49,
     "metadata": {},
     "output_type": "execute_result"
    }
   ],
   "source": [
    "arr"
   ]
  },
  {
   "cell_type": "code",
   "execution_count": 50,
   "id": "069f76d8",
   "metadata": {},
   "outputs": [
    {
     "data": {
      "text/plain": [
       "array([[False,  True,  True,  True],\n",
       "       [ True, False,  True,  True],\n",
       "       [ True,  True, False,  True],\n",
       "       [ True,  True,  True, False]])"
      ]
     },
     "execution_count": 50,
     "metadata": {},
     "output_type": "execute_result"
    }
   ],
   "source": [
    "(arr != 0) & (arr != 5) & (arr != 10) & (arr != 15)"
   ]
  },
  {
   "cell_type": "code",
   "execution_count": 51,
   "id": "03f56bd0",
   "metadata": {},
   "outputs": [
    {
     "data": {
      "text/plain": [
       "array([[ 0,  1,  2,  3],\n",
       "       [ 4,  5,  6,  7],\n",
       "       [ 8,  9, 10, 11],\n",
       "       [12, 13, 14, 15]])"
      ]
     },
     "execution_count": 51,
     "metadata": {},
     "output_type": "execute_result"
    }
   ],
   "source": [
    "arr"
   ]
  },
  {
   "cell_type": "code",
   "execution_count": 52,
   "id": "94d56ef4",
   "metadata": {},
   "outputs": [
    {
     "data": {
      "text/plain": [
       "array([[False,  True,  True,  True],\n",
       "       [ True, False,  True,  True],\n",
       "       [ True,  True, False,  True],\n",
       "       [ True,  True,  True, False]])"
      ]
     },
     "execution_count": 52,
     "metadata": {},
     "output_type": "execute_result"
    }
   ],
   "source": [
    "np.logical_xor(1, np.eye(4))"
   ]
  },
  {
   "cell_type": "code",
   "execution_count": 53,
   "id": "0a75b8a0",
   "metadata": {},
   "outputs": [
    {
     "data": {
      "text/plain": [
       "array([[ 0,  1,  2,  3,  4],\n",
       "       [ 5,  6,  7,  8,  9],\n",
       "       [10, 11, 12, 13, 14],\n",
       "       [15, 16, 17, 18, 19]])"
      ]
     },
     "execution_count": 53,
     "metadata": {},
     "output_type": "execute_result"
    }
   ],
   "source": [
    "arr = np.arange(20).reshape(4,5)\n",
    "arr"
   ]
  },
  {
   "cell_type": "code",
   "execution_count": 54,
   "id": "2b5d4781",
   "metadata": {},
   "outputs": [
    {
     "data": {
      "text/plain": [
       "array([[15, 16, 17],\n",
       "       [ 0,  1,  2],\n",
       "       [ 5,  6,  7]])"
      ]
     },
     "execution_count": 54,
     "metadata": {},
     "output_type": "execute_result"
    }
   ],
   "source": [
    "arr[[3,0,1],:3]"
   ]
  },
  {
   "cell_type": "code",
   "execution_count": 55,
   "id": "47b2cb01",
   "metadata": {},
   "outputs": [
    {
     "data": {
      "text/plain": [
       "190"
      ]
     },
     "execution_count": 55,
     "metadata": {},
     "output_type": "execute_result"
    }
   ],
   "source": [
    "arr.sum()"
   ]
  },
  {
   "cell_type": "code",
   "execution_count": 56,
   "id": "dfc75d50",
   "metadata": {},
   "outputs": [
    {
     "data": {
      "text/plain": [
       "array([[ 7,  8,  9],\n",
       "       [12, 13, 14],\n",
       "       [17, 18, 19]])"
      ]
     },
     "execution_count": 56,
     "metadata": {},
     "output_type": "execute_result"
    }
   ],
   "source": [
    "arr[arr.sum(axis=1)>10,2:]"
   ]
  },
  {
   "cell_type": "code",
   "execution_count": 57,
   "id": "cae62110",
   "metadata": {
    "scrolled": true
   },
   "outputs": [
    {
     "data": {
      "text/plain": [
       "array([[ 7,  8,  9],\n",
       "       [12, 13, 14],\n",
       "       [17, 18, 19]])"
      ]
     },
     "execution_count": 57,
     "metadata": {},
     "output_type": "execute_result"
    }
   ],
   "source": [
    "arr[arr.sum(axis=1)>10,2:]"
   ]
  },
  {
   "cell_type": "code",
   "execution_count": 58,
   "id": "8c231ddd",
   "metadata": {},
   "outputs": [
    {
     "data": {
      "text/plain": [
       "array([[ 0,  1,  2,  3,  4],\n",
       "       [ 5,  6,  7,  8,  9],\n",
       "       [10, 11, 12, 13, 14],\n",
       "       [15, 16, 17, 18, 19]])"
      ]
     },
     "execution_count": 58,
     "metadata": {},
     "output_type": "execute_result"
    }
   ],
   "source": [
    "arr"
   ]
  },
  {
   "cell_type": "code",
   "execution_count": 59,
   "id": "1cf9c490",
   "metadata": {},
   "outputs": [],
   "source": [
    "#Ćwiczenie\n",
    "# Zwróć z tablicy arr wiersz o indeksie nr 2, lecz tylko dla tych kolumn, których suma przekracza 30."
   ]
  },
  {
   "cell_type": "code",
   "execution_count": 60,
   "id": "33a6cb17",
   "metadata": {},
   "outputs": [
    {
     "data": {
      "text/plain": [
       "array([11, 12, 13, 14])"
      ]
     },
     "execution_count": 60,
     "metadata": {},
     "output_type": "execute_result"
    }
   ],
   "source": [
    "arr[2][arr.sum(axis=0)>30]"
   ]
  },
  {
   "cell_type": "code",
   "execution_count": 61,
   "id": "ffbc245c",
   "metadata": {},
   "outputs": [],
   "source": [
    "#Mamy dane dwie tablice: a i b. Stwórz program filtrujący wartości z b, które korespondują z elementami a i są większe od 100 i mniejsze od 110.\n",
    "\n",
    "# a = np.array([97,101,105,111,117,125])\n",
    "# b = np.array(['a','e','i','o','u','y'])"
   ]
  },
  {
   "cell_type": "code",
   "execution_count": 62,
   "id": "655a1507",
   "metadata": {},
   "outputs": [],
   "source": [
    "a = np.array([97,101,105,111,117,125])\n",
    "b = np.array(['a','e','i','o','u','y'])"
   ]
  },
  {
   "cell_type": "code",
   "execution_count": 63,
   "id": "01d4c88a",
   "metadata": {},
   "outputs": [
    {
     "name": "stdout",
     "output_type": "stream",
     "text": [
      "{'e': 101, 'i': 105}\n",
      "[101. 105.]\n",
      "['e' 'i']\n"
     ]
    }
   ],
   "source": [
    "dict = {}\n",
    "aa = np.array([])\n",
    "bb = np.array([])\n",
    "for index in range(0, len(a)):\n",
    "    if 100 < a[index] < 110:\n",
    "        dict[b[index]] = a[index]\n",
    "        aa = np.append(aa, [a[index]])\n",
    "        bb = np.append(bb, [b[index]])\n",
    "\n",
    "print(dict)\n",
    "print(aa)\n",
    "print(bb)\n"
   ]
  },
  {
   "cell_type": "code",
   "execution_count": null,
   "id": "b35217af",
   "metadata": {},
   "outputs": [],
   "source": [
    "#Stwórz program, który ze wskazanej macierzy wyciągnie odpowiednio najmniejszą\n",
    "# i największą wartość dla każdego wiersza."
   ]
  },
  {
   "cell_type": "code",
   "execution_count": 71,
   "id": "4c80593c",
   "metadata": {},
   "outputs": [],
   "source": [
    "m = np.array([[0,4,1],\n",
    "              [2,0,4]])"
   ]
  },
  {
   "cell_type": "code",
   "execution_count": 70,
   "id": "91c0c8b9",
   "metadata": {},
   "outputs": [
    {
     "data": {
      "text/plain": [
       "array([4, 4])"
      ]
     },
     "execution_count": 70,
     "metadata": {},
     "output_type": "execute_result"
    }
   ],
   "source": [
    "m.max(axis=1)"
   ]
  },
  {
   "cell_type": "code",
   "execution_count": 72,
   "id": "7a1a14be",
   "metadata": {},
   "outputs": [
    {
     "data": {
      "text/plain": [
       "array([0, 0])"
      ]
     },
     "execution_count": 72,
     "metadata": {},
     "output_type": "execute_result"
    }
   ],
   "source": [
    "m.min(axis=1)"
   ]
  },
  {
   "cell_type": "code",
   "execution_count": 73,
   "id": "6e473a55",
   "metadata": {},
   "outputs": [],
   "source": [
    "# Mając tablicę np.arange(11), odwróć znak wszystkich elementów większych od 3 i mniejszych od 8."
   ]
  },
  {
   "cell_type": "code",
   "execution_count": 79,
   "id": "6b887331",
   "metadata": {},
   "outputs": [
    {
     "data": {
      "text/plain": [
       "array([ 0,  1,  2,  3,  4,  5,  6,  7,  8,  9, 10])"
      ]
     },
     "execution_count": 79,
     "metadata": {},
     "output_type": "execute_result"
    }
   ],
   "source": [
    "ars= np.arange(11)\n",
    "ars"
   ]
  },
  {
   "cell_type": "code",
   "execution_count": 81,
   "id": "d65fb06a",
   "metadata": {},
   "outputs": [
    {
     "name": "stdout",
     "output_type": "stream",
     "text": [
      "[-4. -5. -6. -7.]\n"
     ]
    }
   ],
   "source": [
    "ac = np.array([])\n",
    "for liczba in range(0, len(ars)):\n",
    "    if 3 < ars[liczba] < 8:\n",
    "        ac = np.append(ac, [ars[liczba] * -1])\n",
    "\n",
    "print(ac)"
   ]
  },
  {
   "cell_type": "code",
   "execution_count": null,
   "id": "4e2077aa",
   "metadata": {},
   "outputs": [],
   "source": []
  }
 ],
 "metadata": {
  "kernelspec": {
   "display_name": "Python 3 (ipykernel)",
   "language": "python",
   "name": "python3"
  },
  "language_info": {
   "codemirror_mode": {
    "name": "ipython",
    "version": 3
   },
   "file_extension": ".py",
   "mimetype": "text/x-python",
   "name": "python",
   "nbconvert_exporter": "python",
   "pygments_lexer": "ipython3",
   "version": "3.9.4"
  }
 },
 "nbformat": 4,
 "nbformat_minor": 5
}
