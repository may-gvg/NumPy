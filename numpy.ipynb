{
 "cells": [
  {
   "cell_type": "code",
   "execution_count": 2,
   "id": "2cd2624b",
   "metadata": {},
   "outputs": [],
   "source": [
    "import numpy as np"
   ]
  },
  {
   "cell_type": "code",
   "execution_count": 3,
   "id": "f2f7e261",
   "metadata": {},
   "outputs": [],
   "source": [
    "exams = np.asarray([[100, 200, 50, 400], [50, 0, 0, 100], [350, 100, 50, 200]])"
   ]
  },
  {
   "cell_type": "code",
   "execution_count": 4,
   "id": "2c844ded",
   "metadata": {},
   "outputs": [
    {
     "data": {
      "text/plain": [
       "array([[100, 200,  50, 400],\n",
       "       [ 50,   0,   0, 100],\n",
       "       [350, 100,  50, 200]])"
      ]
     },
     "execution_count": 4,
     "metadata": {},
     "output_type": "execute_result"
    }
   ],
   "source": [
    "exams"
   ]
  },
  {
   "cell_type": "code",
   "execution_count": 5,
   "id": "6c0b55be",
   "metadata": {},
   "outputs": [],
   "source": [
    "u_a = [100,200,50,400]\n",
    "u_b = [50,0,0,100]\n",
    "u_c = [350,100,50,200]\n",
    "exams = [u_a,u_b,u_c]"
   ]
  },
  {
   "cell_type": "code",
   "execution_count": 6,
   "id": "7df96160",
   "metadata": {},
   "outputs": [
    {
     "data": {
      "text/plain": [
       "[[100, 200, 50, 400], [50, 0, 0, 100], [350, 100, 50, 200]]"
      ]
     },
     "execution_count": 6,
     "metadata": {},
     "output_type": "execute_result"
    }
   ],
   "source": [
    "exams"
   ]
  },
  {
   "cell_type": "code",
   "execution_count": 7,
   "id": "9100d4fd",
   "metadata": {},
   "outputs": [],
   "source": [
    "#Speed test"
   ]
  },
  {
   "cell_type": "code",
   "execution_count": 8,
   "id": "f58ced4c",
   "metadata": {},
   "outputs": [],
   "source": [
    "my_list = [i for i in range(1000000)]\n",
    "my_array = np.arange(1000000)"
   ]
  },
  {
   "cell_type": "code",
   "execution_count": 9,
   "id": "cafd4315",
   "metadata": {},
   "outputs": [
    {
     "name": "stdout",
     "output_type": "stream",
     "text": [
      "Wall time: 3.32 s\n"
     ]
    }
   ],
   "source": [
    "%time for _ in range(10): my_list2 = [x**2 for x in my_list]"
   ]
  },
  {
   "cell_type": "code",
   "execution_count": 10,
   "id": "f36e7d09",
   "metadata": {},
   "outputs": [
    {
     "name": "stdout",
     "output_type": "stream",
     "text": [
      "Wall time: 33 ms\n"
     ]
    }
   ],
   "source": [
    "%time for _ in range(10):my_array_2 = my_array **2"
   ]
  },
  {
   "cell_type": "code",
   "execution_count": 11,
   "id": "7180c055",
   "metadata": {},
   "outputs": [
    {
     "data": {
      "text/plain": [
       "numpy.ndarray"
      ]
     },
     "execution_count": 11,
     "metadata": {},
     "output_type": "execute_result"
    }
   ],
   "source": [
    "one_dim = np.array([1,2,3,4])\n",
    "type(one_dim)"
   ]
  },
  {
   "cell_type": "code",
   "execution_count": 12,
   "id": "df499520",
   "metadata": {},
   "outputs": [
    {
     "data": {
      "text/plain": [
       "(4,)"
      ]
     },
     "execution_count": 12,
     "metadata": {},
     "output_type": "execute_result"
    }
   ],
   "source": [
    "one_dim.shape # kształt"
   ]
  },
  {
   "cell_type": "code",
   "execution_count": 13,
   "id": "24c9b487",
   "metadata": {},
   "outputs": [
    {
     "data": {
      "text/plain": [
       "1"
      ]
     },
     "execution_count": 13,
     "metadata": {},
     "output_type": "execute_result"
    }
   ],
   "source": [
    "one_dim.ndim # liczba wymiarów – w tym przypadku 1 wymiar"
   ]
  },
  {
   "cell_type": "code",
   "execution_count": 14,
   "id": "78524fe7",
   "metadata": {},
   "outputs": [
    {
     "name": "stdout",
     "output_type": "stream",
     "text": [
      "len: 3\n",
      "shape: (3, 4)\n",
      "ndim: 2\n"
     ]
    }
   ],
   "source": [
    "two_dim = np.array([[100, 200, 50, 400], [50, 0, 0, 100], [350, 100, 50, 200]])\n",
    "\n",
    "print(\"len: \" + str(len(two_dim)))\n",
    "print(\"shape: \" + str(two_dim.shape))\n",
    "print(\"ndim: \" + str(two_dim.ndim))"
   ]
  },
  {
   "cell_type": "code",
   "execution_count": 15,
   "id": "afb779bf",
   "metadata": {},
   "outputs": [
    {
     "data": {
      "text/plain": [
       "array([1, 2, 3, 4])"
      ]
     },
     "execution_count": 15,
     "metadata": {},
     "output_type": "execute_result"
    }
   ],
   "source": [
    "one_dim"
   ]
  },
  {
   "cell_type": "code",
   "execution_count": 16,
   "id": "dc77094c",
   "metadata": {},
   "outputs": [
    {
     "data": {
      "text/plain": [
       "array([[1, 2],\n",
       "       [3, 4]])"
      ]
     },
     "execution_count": 16,
     "metadata": {},
     "output_type": "execute_result"
    }
   ],
   "source": [
    "one_dim.reshape(2,2)"
   ]
  },
  {
   "cell_type": "code",
   "execution_count": 17,
   "id": "82896425",
   "metadata": {},
   "outputs": [
    {
     "data": {
      "text/plain": [
       "array([[100, 200,  50, 400],\n",
       "       [ 50,   0,   0, 100],\n",
       "       [350, 100,  50, 200]])"
      ]
     },
     "execution_count": 17,
     "metadata": {},
     "output_type": "execute_result"
    }
   ],
   "source": [
    "two_dim"
   ]
  },
  {
   "cell_type": "code",
   "execution_count": 18,
   "id": "f529c454",
   "metadata": {},
   "outputs": [
    {
     "data": {
      "text/plain": [
       "array([[100, 200,  50],\n",
       "       [400,  50,   0],\n",
       "       [  0, 100, 350],\n",
       "       [100,  50, 200]])"
      ]
     },
     "execution_count": 18,
     "metadata": {},
     "output_type": "execute_result"
    }
   ],
   "source": [
    "two_dim.reshape(4,3)"
   ]
  },
  {
   "cell_type": "code",
   "execution_count": 19,
   "id": "0c0e4fb9",
   "metadata": {},
   "outputs": [
    {
     "ename": "ValueError",
     "evalue": "cannot reshape array of size 12 into shape (4,4)",
     "output_type": "error",
     "traceback": [
      "\u001B[1;31m---------------------------------------------------------------------------\u001B[0m",
      "\u001B[1;31mValueError\u001B[0m                                Traceback (most recent call last)",
      "\u001B[1;32m~\\AppData\\Local\\Temp/ipykernel_9408/1743900560.py\u001B[0m in \u001B[0;36m<module>\u001B[1;34m\u001B[0m\n\u001B[1;32m----> 1\u001B[1;33m \u001B[0mtwo_dim\u001B[0m\u001B[1;33m.\u001B[0m\u001B[0mreshape\u001B[0m\u001B[1;33m(\u001B[0m\u001B[1;36m4\u001B[0m\u001B[1;33m,\u001B[0m\u001B[1;36m4\u001B[0m\u001B[1;33m)\u001B[0m\u001B[1;33m\u001B[0m\u001B[1;33m\u001B[0m\u001B[0m\n\u001B[0m",
      "\u001B[1;31mValueError\u001B[0m: cannot reshape array of size 12 into shape (4,4)"
     ]
    }
   ],
   "source": [
    "two_dim.reshape(4,4)"
   ]
  },
  {
   "cell_type": "code",
   "execution_count": 21,
   "id": "6ed91c0b",
   "metadata": {},
   "outputs": [
    {
     "data": {
      "text/plain": [
       "array([[100,  50, 350],\n",
       "       [200,   0, 100],\n",
       "       [ 50,   0,  50],\n",
       "       [400, 100, 200]])"
      ]
     },
     "execution_count": 21,
     "metadata": {},
     "output_type": "execute_result"
    }
   ],
   "source": [
    "two_dim.transpose()"
   ]
  },
  {
   "cell_type": "code",
   "execution_count": 22,
   "id": "19068028",
   "metadata": {},
   "outputs": [
    {
     "data": {
      "text/plain": [
       "array([1, 2, 3, 4, 5])"
      ]
     },
     "execution_count": 22,
     "metadata": {},
     "output_type": "execute_result"
    }
   ],
   "source": [
    "my_list = [1,2,3,4,5]\n",
    "np.array(my_list)"
   ]
  },
  {
   "cell_type": "code",
   "execution_count": 23,
   "id": "89004c0a",
   "metadata": {},
   "outputs": [
    {
     "data": {
      "text/plain": [
       "array([[1, 2, 3],\n",
       "       [4, 5, 6],\n",
       "       [7, 8, 9]])"
      ]
     },
     "execution_count": 23,
     "metadata": {},
     "output_type": "execute_result"
    }
   ],
   "source": [
    "my_nested_list = [[1,2,3],[4,5,6],[7,8,9]]\n",
    "np.array(my_nested_list)"
   ]
  },
  {
   "cell_type": "code",
   "execution_count": 24,
   "id": "11901fe8",
   "metadata": {},
   "outputs": [
    {
     "data": {
      "text/plain": [
       "array([ 0,  1,  2,  3,  4,  5,  6,  7,  8,  9, 10, 11, 12, 13, 14, 15, 16,\n",
       "       17, 18, 19])"
      ]
     },
     "execution_count": 24,
     "metadata": {},
     "output_type": "execute_result"
    }
   ],
   "source": [
    "np.arange(0,20)"
   ]
  },
  {
   "cell_type": "code",
   "execution_count": 25,
   "id": "fbdaeecf",
   "metadata": {},
   "outputs": [
    {
     "data": {
      "text/plain": [
       "array([ 0,  2,  4,  6,  8, 10, 12, 14, 16, 18])"
      ]
     },
     "execution_count": 25,
     "metadata": {},
     "output_type": "execute_result"
    }
   ],
   "source": [
    "np.arange(0,20,2)"
   ]
  },
  {
   "cell_type": "code",
   "execution_count": 26,
   "id": "d323729c",
   "metadata": {},
   "outputs": [
    {
     "data": {
      "text/plain": [
       "array([0., 0., 0.])"
      ]
     },
     "execution_count": 26,
     "metadata": {},
     "output_type": "execute_result"
    }
   ],
   "source": [
    "np.zeros(3)"
   ]
  },
  {
   "cell_type": "code",
   "execution_count": 27,
   "id": "e9a72ec6",
   "metadata": {},
   "outputs": [
    {
     "data": {
      "text/plain": [
       "array([[0., 0., 0.],\n",
       "       [0., 0., 0.],\n",
       "       [0., 0., 0.],\n",
       "       [0., 0., 0.],\n",
       "       [0., 0., 0.]])"
      ]
     },
     "execution_count": 27,
     "metadata": {},
     "output_type": "execute_result"
    }
   ],
   "source": [
    "np.zeros((5,3))"
   ]
  },
  {
   "cell_type": "code",
   "execution_count": 28,
   "id": "aba510b8",
   "metadata": {},
   "outputs": [
    {
     "data": {
      "text/plain": [
       "array([1., 1., 1., 1., 1.])"
      ]
     },
     "execution_count": 28,
     "metadata": {},
     "output_type": "execute_result"
    }
   ],
   "source": [
    "np.ones(5)"
   ]
  },
  {
   "cell_type": "code",
   "execution_count": 29,
   "id": "b4482bb8",
   "metadata": {},
   "outputs": [
    {
     "data": {
      "text/plain": [
       "array([[1., 1., 1.],\n",
       "       [1., 1., 1.]])"
      ]
     },
     "execution_count": 29,
     "metadata": {},
     "output_type": "execute_result"
    }
   ],
   "source": [
    "np.ones((2,3))"
   ]
  },
  {
   "cell_type": "code",
   "execution_count": 30,
   "id": "3e4adb01",
   "metadata": {},
   "outputs": [
    {
     "data": {
      "text/plain": [
       "array([[1, 1, 1],\n",
       "       [1, 1, 1]], dtype=int8)"
      ]
     },
     "execution_count": 30,
     "metadata": {},
     "output_type": "execute_result"
    }
   ],
   "source": [
    "np.ones((2,3),dtype=np.int8)"
   ]
  },
  {
   "cell_type": "code",
   "execution_count": 31,
   "id": "33574be9",
   "metadata": {},
   "outputs": [
    {
     "data": {
      "text/plain": [
       "array([0.        , 0.55555556, 1.11111111, 1.66666667, 2.22222222,\n",
       "       2.77777778, 3.33333333, 3.88888889, 4.44444444, 5.        ])"
      ]
     },
     "execution_count": 31,
     "metadata": {},
     "output_type": "execute_result"
    }
   ],
   "source": [
    "np.linspace(0,5,10)"
   ]
  },
  {
   "cell_type": "code",
   "execution_count": 57,
   "id": "bfd8545a",
   "metadata": {},
   "outputs": [
    {
     "data": {
      "text/plain": [
       "array([[1., 0., 0., 0.],\n",
       "       [0., 1., 0., 0.],\n",
       "       [0., 0., 1., 0.],\n",
       "       [0., 0., 0., 1.]])"
      ]
     },
     "execution_count": 57,
     "metadata": {},
     "output_type": "execute_result"
    }
   ],
   "source": [
    "np.eye(4)"
   ]
  },
  {
   "cell_type": "code",
   "execution_count": 32,
   "id": "74cf17b1",
   "metadata": {},
   "outputs": [
    {
     "data": {
      "text/plain": [
       "array([0.97331398, 0.33459613, 0.24974297, 0.49314121, 0.16102346])"
      ]
     },
     "execution_count": 32,
     "metadata": {},
     "output_type": "execute_result"
    }
   ],
   "source": [
    "np.random.rand(5)"
   ]
  },
  {
   "cell_type": "code",
   "execution_count": 33,
   "id": "332c419f",
   "metadata": {},
   "outputs": [
    {
     "data": {
      "text/plain": [
       "array([[0.49434419, 0.0146706 , 0.52350675, 0.94803859, 0.86225721],\n",
       "       [0.40595749, 0.94782566, 0.28849402, 0.14783281, 0.2481257 ],\n",
       "       [0.44211986, 0.48198183, 0.45453583, 0.29277472, 0.08256705],\n",
       "       [0.57281321, 0.84981557, 0.11588104, 0.25479608, 0.19029118],\n",
       "       [0.3238004 , 0.52571315, 0.87865407, 0.42258074, 0.77192021]])"
      ]
     },
     "execution_count": 33,
     "metadata": {},
     "output_type": "execute_result"
    }
   ],
   "source": [
    "np.random.rand(5,5)"
   ]
  },
  {
   "cell_type": "code",
   "execution_count": 34,
   "id": "2b8cf160",
   "metadata": {},
   "outputs": [
    {
     "data": {
      "text/plain": [
       "array([37, 96, 47, 68, 95, 95, 86, 46, 55, 20])"
      ]
     },
     "execution_count": 34,
     "metadata": {},
     "output_type": "execute_result"
    }
   ],
   "source": [
    "np.random.randint(1,100,10)"
   ]
  },
  {
   "cell_type": "code",
   "execution_count": 35,
   "id": "04a486e2",
   "metadata": {},
   "outputs": [
    {
     "data": {
      "text/plain": [
       "array([3, 7, 6, 2, 9, 2, 1, 7, 2, 6])"
      ]
     },
     "execution_count": 35,
     "metadata": {},
     "output_type": "execute_result"
    }
   ],
   "source": [
    "#Stwórz dziesięcioelementowy wektor z przedziału od 0 do 1, bez uwzględniania wartości granicznych.\n",
    "np.random.randint(1,10,10)"
   ]
  },
  {
   "cell_type": "code",
   "execution_count": 55,
   "id": "dc3a7dec",
   "metadata": {},
   "outputs": [],
   "source": [
    "#Stwórz macierz o wymiarach 5x5, której wartości w poszczególnych wierszach są równe, \n",
    "#a wartości w kolumnach wynoszą 0, 1, 2, 3, 4\n",
    "x,y =np.mgrid[0:5,0:5]"
   ]
  },
  {
   "cell_type": "code",
   "execution_count": 56,
   "id": "3e964234",
   "metadata": {},
   "outputs": [
    {
     "data": {
      "text/plain": [
       "array([[0, 0, 0, 0, 0],\n",
       "       [1, 1, 1, 1, 1],\n",
       "       [2, 2, 2, 2, 2],\n",
       "       [3, 3, 3, 3, 3],\n",
       "       [4, 4, 4, 4, 4]])"
      ]
     },
     "execution_count": 56,
     "metadata": {},
     "output_type": "execute_result"
    }
   ],
   "source": [
    "x"
   ]
  },
  {
   "cell_type": "code",
   "execution_count": null,
   "id": "49321d69",
   "metadata": {},
   "outputs": [],
   "source": []
  }
 ],
 "metadata": {
  "kernelspec": {
   "display_name": "Python 3 (ipykernel)",
   "language": "python",
   "name": "python3"
  },
  "language_info": {
   "codemirror_mode": {
    "name": "ipython",
    "version": 3
   },
   "file_extension": ".py",
   "mimetype": "text/x-python",
   "name": "python",
   "nbconvert_exporter": "python",
   "pygments_lexer": "ipython3",
   "version": "3.9.4"
  }
 },
 "nbformat": 4,
 "nbformat_minor": 5
}