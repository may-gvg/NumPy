{
 "cells": [
  {
   "cell_type": "code",
   "execution_count": 1,
   "id": "2d73b1e6",
   "metadata": {},
   "outputs": [],
   "source": [
    "#Broadcasting"
   ]
  },
  {
   "cell_type": "code",
   "execution_count": 2,
   "id": "af2241e9",
   "metadata": {},
   "outputs": [],
   "source": [
    "import numpy as np"
   ]
  },
  {
   "cell_type": "code",
   "execution_count": 3,
   "id": "c835fae1",
   "metadata": {},
   "outputs": [
    {
     "data": {
      "text/plain": [
       "array([  0,  10,  20,  30,  40,  50,  60,  70,  80,  90, 100])"
      ]
     },
     "execution_count": 3,
     "metadata": {},
     "output_type": "execute_result"
    }
   ],
   "source": [
    "arr = np.arange(0,101,10)\n",
    "arr"
   ]
  },
  {
   "cell_type": "code",
   "execution_count": 4,
   "id": "1edd6fc3",
   "metadata": {},
   "outputs": [
    {
     "data": {
      "text/plain": [
       "array([  0,  20,  40,  60,  80, 100, 120, 140, 160, 180, 200])"
      ]
     },
     "execution_count": 4,
     "metadata": {},
     "output_type": "execute_result"
    }
   ],
   "source": [
    "arr + arr"
   ]
  },
  {
   "cell_type": "code",
   "execution_count": 5,
   "id": "82d3b127",
   "metadata": {},
   "outputs": [
    {
     "data": {
      "text/plain": [
       "array([    0,   100,   400,   900,  1600,  2500,  3600,  4900,  6400,\n",
       "        8100, 10000])"
      ]
     },
     "execution_count": 5,
     "metadata": {},
     "output_type": "execute_result"
    }
   ],
   "source": [
    "arr * arr"
   ]
  },
  {
   "cell_type": "code",
   "execution_count": 6,
   "id": "89f3c3e5",
   "metadata": {},
   "outputs": [
    {
     "data": {
      "text/plain": [
       "array([  5,  15,  25,  35,  45,  55,  65,  75,  85,  95, 105])"
      ]
     },
     "execution_count": 6,
     "metadata": {},
     "output_type": "execute_result"
    }
   ],
   "source": [
    "arr + 5"
   ]
  },
  {
   "cell_type": "code",
   "execution_count": 7,
   "id": "03b6304c",
   "metadata": {},
   "outputs": [
    {
     "data": {
      "text/plain": [
       "array([ 0.,  2.,  4.,  6.,  8., 10., 12., 14., 16., 18., 20.])"
      ]
     },
     "execution_count": 7,
     "metadata": {},
     "output_type": "execute_result"
    }
   ],
   "source": [
    "arr / 5"
   ]
  },
  {
   "cell_type": "code",
   "execution_count": 8,
   "id": "bc46013d",
   "metadata": {},
   "outputs": [
    {
     "data": {
      "text/plain": [
       "array([[0, 1],\n",
       "       [2, 3],\n",
       "       [4, 5],\n",
       "       [6, 7],\n",
       "       [8, 9]])"
      ]
     },
     "execution_count": 8,
     "metadata": {},
     "output_type": "execute_result"
    }
   ],
   "source": [
    "left_ = np.arange(10).reshape(5,2)\n",
    "right_ = np.arange(5).reshape(5,1)\n",
    "\n",
    "left_"
   ]
  },
  {
   "cell_type": "code",
   "execution_count": 9,
   "id": "bc1a1809",
   "metadata": {},
   "outputs": [
    {
     "data": {
      "text/plain": [
       "array([[0],\n",
       "       [1],\n",
       "       [2],\n",
       "       [3],\n",
       "       [4]])"
      ]
     },
     "execution_count": 9,
     "metadata": {},
     "output_type": "execute_result"
    }
   ],
   "source": [
    "right_"
   ]
  },
  {
   "cell_type": "code",
   "execution_count": 10,
   "id": "b14ee794",
   "metadata": {},
   "outputs": [
    {
     "data": {
      "text/plain": [
       "array([[ 0,  0],\n",
       "       [ 2,  3],\n",
       "       [ 8, 10],\n",
       "       [18, 21],\n",
       "       [32, 36]])"
      ]
     },
     "execution_count": 10,
     "metadata": {},
     "output_type": "execute_result"
    }
   ],
   "source": [
    "left_ * right_"
   ]
  },
  {
   "cell_type": "code",
   "execution_count": 11,
   "id": "6964d1b1",
   "metadata": {},
   "outputs": [],
   "source": [
    "# Funkcje uniwersalne"
   ]
  },
  {
   "cell_type": "code",
   "execution_count": 12,
   "id": "775a92b7",
   "metadata": {},
   "outputs": [
    {
     "data": {
      "text/plain": [
       "array([  0,  10,  20,  30,  40,  50,  60,  70,  80,  90, 100])"
      ]
     },
     "execution_count": 12,
     "metadata": {},
     "output_type": "execute_result"
    }
   ],
   "source": [
    "arr = np.arange(0,101,10)\n",
    "arr\n"
   ]
  },
  {
   "cell_type": "code",
   "execution_count": 13,
   "id": "31466719",
   "metadata": {},
   "outputs": [
    {
     "data": {
      "text/plain": [
       "array([ 0.        ,  3.16227766,  4.47213595,  5.47722558,  6.32455532,\n",
       "        7.07106781,  7.74596669,  8.36660027,  8.94427191,  9.48683298,\n",
       "       10.        ])"
      ]
     },
     "execution_count": 13,
     "metadata": {},
     "output_type": "execute_result"
    }
   ],
   "source": [
    "#pierwiastek kwadratowy\n",
    "np.sqrt(arr)"
   ]
  },
  {
   "cell_type": "code",
   "execution_count": 14,
   "id": "2177e488",
   "metadata": {},
   "outputs": [
    {
     "data": {
      "text/plain": [
       "array([ 0.        , -0.54402111,  0.91294525, -0.98803162,  0.74511316,\n",
       "       -0.26237485, -0.30481062,  0.77389068, -0.99388865,  0.89399666,\n",
       "       -0.50636564])"
      ]
     },
     "execution_count": 14,
     "metadata": {},
     "output_type": "execute_result"
    }
   ],
   "source": [
    "# sinus ;) ?\n",
    "np.sin(arr) "
   ]
  },
  {
   "cell_type": "code",
   "execution_count": 15,
   "id": "458f4f7e",
   "metadata": {},
   "outputs": [
    {
     "data": {
      "text/plain": [
       "array([  0,  20,  40,  60,  80, 100, 120, 140, 160, 180, 200])"
      ]
     },
     "execution_count": 15,
     "metadata": {},
     "output_type": "execute_result"
    }
   ],
   "source": [
    "np.multiply(arr,2)"
   ]
  },
  {
   "cell_type": "code",
   "execution_count": 16,
   "id": "40e9b852",
   "metadata": {},
   "outputs": [],
   "source": [
    "#Ćwiczenia\n",
    "# 1. Stwórz program, który ze wskazanej macierzy wyciągnie odpowiednio najmniejszą i największą wartość dla każdego wiersza.\n",
    "# [[0 4 1] [2 0 4]]\n",
    "\n",
    "# 2. Stwórz wektor Z według następującego wzoru: np.random.uniform(0,1,10). \n",
    "# Następnie znajdź element, który jest najbliższy wartości 0.5.\n",
    "# 3. Stwórz wektor zawierający 20 losowych wartości, a następnie zamień jego największą wartość na 0.\n",
    "\n",
    "# 4. Znajdź części całkowite tablicy, wykorzystując przynajmniej dwa różne sposoby.\n",
    "# np.array([5, 0.0249139 , 0.11873564, 0., 0.72321586, 11308494, 0.29931472, 0.24439968, 0.61251754, 4])"
   ]
  },
  {
   "cell_type": "code",
   "execution_count": 17,
   "id": "3d738b07",
   "metadata": {},
   "outputs": [],
   "source": [
    "# ad. 1\n",
    "m = np.array([[0,4,1],\n",
    "              [2,0,4]])"
   ]
  },
  {
   "cell_type": "code",
   "execution_count": 18,
   "id": "73df3b5d",
   "metadata": {},
   "outputs": [
    {
     "data": {
      "text/plain": [
       "array([0, 0])"
      ]
     },
     "execution_count": 18,
     "metadata": {},
     "output_type": "execute_result"
    }
   ],
   "source": [
    "m.min(axis=1)"
   ]
  },
  {
   "cell_type": "code",
   "execution_count": 19,
   "id": "df3d66fd",
   "metadata": {},
   "outputs": [
    {
     "data": {
      "text/plain": [
       "array([4, 4])"
      ]
     },
     "execution_count": 19,
     "metadata": {},
     "output_type": "execute_result"
    }
   ],
   "source": [
    "m.max(axis=1)"
   ]
  },
  {
   "cell_type": "code",
   "execution_count": 20,
   "id": "5670d367",
   "metadata": {},
   "outputs": [],
   "source": [
    "# ad. 2\n",
    "x =np.random.uniform(0,1,10)"
   ]
  },
  {
   "cell_type": "code",
   "execution_count": 21,
   "id": "31cfb0d2",
   "metadata": {},
   "outputs": [
    {
     "data": {
      "text/plain": [
       "array([0.39406416, 0.94525189, 0.02334823, 0.49213623, 0.27505761,\n",
       "       0.64368203, 0.80820998, 0.05316542, 0.19246594, 0.19960368])"
      ]
     },
     "execution_count": 21,
     "metadata": {},
     "output_type": "execute_result"
    }
   ],
   "source": [
    "x"
   ]
  },
  {
   "cell_type": "code",
   "execution_count": 22,
   "id": "d9a3d255",
   "metadata": {},
   "outputs": [
    {
     "data": {
      "text/plain": [
       "0.49213622661476697"
      ]
     },
     "execution_count": 22,
     "metadata": {},
     "output_type": "execute_result"
    }
   ],
   "source": [
    "x[np.abs(np.array(x) - 0.5).argmin()]"
   ]
  },
  {
   "cell_type": "code",
   "execution_count": 23,
   "id": "5fcb8df1",
   "metadata": {},
   "outputs": [],
   "source": [
    "# ad. 3\n",
    "y =np.random.uniform(0,66,20)"
   ]
  },
  {
   "cell_type": "code",
   "execution_count": 24,
   "id": "ece662d1",
   "metadata": {},
   "outputs": [
    {
     "data": {
      "text/plain": [
       "array([49.77495417, 45.56232801, 60.74882394, 45.17521922, 52.34033757,\n",
       "       43.35429966, 11.79306131, 51.15435742, 65.86213609,  0.2581034 ,\n",
       "       28.33053162, 37.84766351, 10.01618771, 44.27656443, 24.24672866,\n",
       "       48.53929125, 46.73815232, 47.73999712, 32.3254039 ,  5.74601061])"
      ]
     },
     "execution_count": 24,
     "metadata": {},
     "output_type": "execute_result"
    }
   ],
   "source": [
    "y"
   ]
  },
  {
   "cell_type": "code",
   "execution_count": 25,
   "id": "bed837bd",
   "metadata": {},
   "outputs": [
    {
     "data": {
      "text/plain": [
       "65.86213608782937"
      ]
     },
     "execution_count": 25,
     "metadata": {},
     "output_type": "execute_result"
    }
   ],
   "source": [
    "np.amax(y)"
   ]
  },
  {
   "cell_type": "code",
   "execution_count": 26,
   "id": "8492413d",
   "metadata": {},
   "outputs": [
    {
     "data": {
      "text/plain": [
       "array([49.77495417, 45.56232801, 60.74882394, 45.17521922, 52.34033757,\n",
       "       43.35429966, 11.79306131, 51.15435742,  0.        ,  0.2581034 ,\n",
       "       28.33053162, 37.84766351, 10.01618771, 44.27656443, 24.24672866,\n",
       "       48.53929125, 46.73815232, 47.73999712, 32.3254039 ,  5.74601061])"
      ]
     },
     "execution_count": 26,
     "metadata": {},
     "output_type": "execute_result"
    }
   ],
   "source": [
    "y[y.argmax()] = 0\n",
    "y"
   ]
  },
  {
   "cell_type": "code",
   "execution_count": 27,
   "id": "3deb84b1",
   "metadata": {},
   "outputs": [],
   "source": [
    "# ad4.\n",
    "q= np.array ([5, 0.0249139 , 0.11873564, 0., 0.72321586, 11308494, 0.29931472, 0.24439968, 0.61251754, 4])"
   ]
  },
  {
   "cell_type": "code",
   "execution_count": 28,
   "id": "11f5aee4",
   "metadata": {},
   "outputs": [
    {
     "data": {
      "text/plain": [
       "array([5.0000000e+00, 2.4913900e-02, 1.1873564e-01, 0.0000000e+00,\n",
       "       7.2321586e-01, 1.1308494e+07, 2.9931472e-01, 2.4439968e-01,\n",
       "       6.1251754e-01, 4.0000000e+00])"
      ]
     },
     "execution_count": 28,
     "metadata": {},
     "output_type": "execute_result"
    }
   ],
   "source": [
    "q"
   ]
  },
  {
   "cell_type": "code",
   "execution_count": 29,
   "id": "29c8632f",
   "metadata": {},
   "outputs": [],
   "source": [
    "f =np.equal(np.mod(q, 1), 0)\n",
    "# 1 sposób"
   ]
  },
  {
   "cell_type": "code",
   "execution_count": 30,
   "id": "9bb80966",
   "metadata": {},
   "outputs": [
    {
     "data": {
      "text/plain": [
       "array([ True, False, False,  True, False,  True, False, False, False,\n",
       "        True])"
      ]
     },
     "execution_count": 30,
     "metadata": {},
     "output_type": "execute_result"
    }
   ],
   "source": [
    "f"
   ]
  },
  {
   "cell_type": "code",
   "execution_count": 31,
   "id": "5e790838",
   "metadata": {},
   "outputs": [],
   "source": [
    "np.mod(q, 1, out=q)\n",
    "mask = (q == 0)\n",
    "# 2 sposób"
   ]
  },
  {
   "cell_type": "code",
   "execution_count": 32,
   "id": "880ab82f",
   "metadata": {},
   "outputs": [
    {
     "data": {
      "text/plain": [
       "array([ True, False, False,  True, False,  True, False, False, False,\n",
       "        True])"
      ]
     },
     "execution_count": 32,
     "metadata": {},
     "output_type": "execute_result"
    }
   ],
   "source": [
    "mask"
   ]
  },
  {
   "cell_type": "code",
   "execution_count": 33,
   "id": "aa04b2db",
   "metadata": {},
   "outputs": [],
   "source": [
    "#Agregowanie"
   ]
  },
  {
   "cell_type": "code",
   "execution_count": 34,
   "id": "9e60cfb8",
   "metadata": {},
   "outputs": [
    {
     "data": {
      "text/plain": [
       "550"
      ]
     },
     "execution_count": 34,
     "metadata": {},
     "output_type": "execute_result"
    }
   ],
   "source": [
    "arr.sum()"
   ]
  },
  {
   "cell_type": "code",
   "execution_count": 35,
   "id": "561f380f",
   "metadata": {},
   "outputs": [
    {
     "data": {
      "text/plain": [
       "50.0"
      ]
     },
     "execution_count": 35,
     "metadata": {},
     "output_type": "execute_result"
    }
   ],
   "source": [
    "arr.mean()"
   ]
  },
  {
   "cell_type": "code",
   "execution_count": 36,
   "id": "26dbe4a3",
   "metadata": {},
   "outputs": [
    {
     "data": {
      "text/plain": [
       "0"
      ]
     },
     "execution_count": 36,
     "metadata": {},
     "output_type": "execute_result"
    }
   ],
   "source": [
    "arr.min()"
   ]
  },
  {
   "cell_type": "code",
   "execution_count": 37,
   "id": "196c3aa4",
   "metadata": {},
   "outputs": [
    {
     "data": {
      "text/plain": [
       "100"
      ]
     },
     "execution_count": 37,
     "metadata": {},
     "output_type": "execute_result"
    }
   ],
   "source": [
    "arr.max()"
   ]
  },
  {
   "cell_type": "code",
   "execution_count": 38,
   "id": "380436e8",
   "metadata": {},
   "outputs": [
    {
     "data": {
      "text/plain": [
       "array([  0,  10,  20,  30,  40,  50,  60,  70,  80,  90, 100])"
      ]
     },
     "execution_count": 38,
     "metadata": {},
     "output_type": "execute_result"
    }
   ],
   "source": [
    "arr = np.arange(0,101,10)\n",
    "arr"
   ]
  },
  {
   "cell_type": "code",
   "execution_count": 39,
   "id": "6a4186a8",
   "metadata": {},
   "outputs": [
    {
     "name": "stderr",
     "output_type": "stream",
     "text": [
      "C:\\Users\\may\\AppData\\Local\\Temp/ipykernel_17796/3001117470.py:1: RuntimeWarning: invalid value encountered in true_divide\n",
      "  arr / arr\n"
     ]
    },
    {
     "data": {
      "text/plain": [
       "array([nan,  1.,  1.,  1.,  1.,  1.,  1.,  1.,  1.,  1.,  1.])"
      ]
     },
     "execution_count": 39,
     "metadata": {},
     "output_type": "execute_result"
    }
   ],
   "source": [
    "arr / arr"
   ]
  },
  {
   "cell_type": "code",
   "execution_count": 40,
   "id": "7a6f1158",
   "metadata": {},
   "outputs": [],
   "source": [
    "defaults = np.seterr(all='ignore')"
   ]
  },
  {
   "cell_type": "code",
   "execution_count": 41,
   "id": "ea0e1c34",
   "metadata": {},
   "outputs": [
    {
     "data": {
      "text/plain": [
       "array([nan,  1.,  1.,  1.,  1.,  1.,  1.,  1.,  1.,  1.,  1.])"
      ]
     },
     "execution_count": 41,
     "metadata": {},
     "output_type": "execute_result"
    }
   ],
   "source": [
    "arr / arr"
   ]
  },
  {
   "cell_type": "code",
   "execution_count": 42,
   "id": "9d922f3b",
   "metadata": {},
   "outputs": [],
   "source": [
    "_ = np.seterr(**defaults)"
   ]
  },
  {
   "cell_type": "code",
   "execution_count": 43,
   "id": "fcabaad7",
   "metadata": {},
   "outputs": [
    {
     "name": "stderr",
     "output_type": "stream",
     "text": [
      "C:\\Users\\may\\AppData\\Local\\Temp/ipykernel_17796/3001117470.py:1: RuntimeWarning: invalid value encountered in true_divide\n",
      "  arr / arr\n"
     ]
    },
    {
     "data": {
      "text/plain": [
       "array([nan,  1.,  1.,  1.,  1.,  1.,  1.,  1.,  1.,  1.,  1.])"
      ]
     },
     "execution_count": 43,
     "metadata": {},
     "output_type": "execute_result"
    }
   ],
   "source": [
    "arr / arr"
   ]
  },
  {
   "cell_type": "code",
   "execution_count": 44,
   "id": "13d548b9",
   "metadata": {},
   "outputs": [
    {
     "data": {
      "text/plain": [
       "array([30, 25, 35, 12, 18,  9, 21, 17, 27, 21])"
      ]
     },
     "execution_count": 44,
     "metadata": {},
     "output_type": "execute_result"
    }
   ],
   "source": [
    "arr = np.random.randint(1,40,10)\n",
    "arr"
   ]
  },
  {
   "cell_type": "code",
   "execution_count": 45,
   "id": "725885a5",
   "metadata": {},
   "outputs": [
    {
     "data": {
      "text/plain": [
       "array([ 9, 12, 17, 18, 21, 21, 25, 27, 30, 35])"
      ]
     },
     "execution_count": 45,
     "metadata": {},
     "output_type": "execute_result"
    }
   ],
   "source": [
    "np.sort(arr)"
   ]
  },
  {
   "cell_type": "code",
   "execution_count": 46,
   "id": "9c0dc014",
   "metadata": {},
   "outputs": [
    {
     "data": {
      "text/plain": [
       "array([[1, 2],\n",
       "       [3, 4],\n",
       "       [5, 6],\n",
       "       [5, 4],\n",
       "       [3, 2]])"
      ]
     },
     "execution_count": 46,
     "metadata": {},
     "output_type": "execute_result"
    }
   ],
   "source": [
    "arr2d = np.array([np.arange(1,6),np.arange(6,1,-1)]).reshape(5,2)\n",
    "arr2d"
   ]
  },
  {
   "cell_type": "code",
   "execution_count": 47,
   "id": "7e19603e",
   "metadata": {},
   "outputs": [
    {
     "data": {
      "text/plain": [
       "array([[1, 2],\n",
       "       [3, 4],\n",
       "       [5, 6],\n",
       "       [4, 5],\n",
       "       [2, 3]])"
      ]
     },
     "execution_count": 47,
     "metadata": {},
     "output_type": "execute_result"
    }
   ],
   "source": [
    "np.sort(arr2d)"
   ]
  },
  {
   "cell_type": "code",
   "execution_count": 48,
   "id": "34777954",
   "metadata": {},
   "outputs": [
    {
     "data": {
      "text/plain": [
       "array([[1, 2],\n",
       "       [3, 2],\n",
       "       [3, 4],\n",
       "       [5, 4],\n",
       "       [5, 6]])"
      ]
     },
     "execution_count": 48,
     "metadata": {},
     "output_type": "execute_result"
    }
   ],
   "source": [
    "np.sort(arr2d,axis=0)"
   ]
  },
  {
   "cell_type": "code",
   "execution_count": 65,
   "id": "69ef66b8",
   "metadata": {},
   "outputs": [
    {
     "data": {
      "text/plain": [
       "array([(b'Student A', 89, 74), (b'Student B', 85, 56),\n",
       "       (b'Student C', 93, 44), (b'Student D', 83, 92)],\n",
       "      dtype=[('student', 'S10'), ('exam1', '<i4'), ('exam2', '<i4')])"
      ]
     },
     "execution_count": 65,
     "metadata": {},
     "output_type": "execute_result"
    }
   ],
   "source": [
    "dt = np.dtype([('student','S10'),('exam1',int),('exam2',int)])\n",
    "\n",
    "a = np.array([(\"Student A\",89,74),(\"Student B\",85,56),\n",
    "              (\"Student C\", 93,44), (\"Student D\",83,92)],dtype=dt)\n",
    "\n",
    "a"
   ]
  },
  {
   "cell_type": "code",
   "execution_count": 68,
   "id": "be3795fb",
   "metadata": {},
   "outputs": [
    {
     "data": {
      "text/plain": [
       "array([(b'Student C', 93, 44), (b'Student B', 85, 56),\n",
       "       (b'Student A', 89, 74), (b'Student D', 83, 92)],\n",
       "      dtype=[('student', 'S10'), ('exam1', '<i4'), ('exam2', '<i4')])"
      ]
     },
     "execution_count": 68,
     "metadata": {},
     "output_type": "execute_result"
    }
   ],
   "source": [
    "np.sort(a,order='exam2')"
   ]
  },
  {
   "cell_type": "code",
   "execution_count": 69,
   "id": "5d26b637",
   "metadata": {},
   "outputs": [
    {
     "data": {
      "text/plain": [
       "b'Student D'"
      ]
     },
     "execution_count": 69,
     "metadata": {},
     "output_type": "execute_result"
    }
   ],
   "source": [
    "np.sort(a,order='exam2')[-1][0]"
   ]
  },
  {
   "cell_type": "code",
   "execution_count": 70,
   "id": "d45d3e6b",
   "metadata": {},
   "outputs": [
    {
     "data": {
      "text/plain": [
       "array([30, 25, 35, 12, 18,  9, 21, 17, 27, 21])"
      ]
     },
     "execution_count": 70,
     "metadata": {},
     "output_type": "execute_result"
    }
   ],
   "source": [
    "arr"
   ]
  },
  {
   "cell_type": "code",
   "execution_count": 71,
   "id": "cef4e6b1",
   "metadata": {},
   "outputs": [
    {
     "data": {
      "text/plain": [
       "array([5, 3, 7, 4, 6, 9, 1, 8, 0, 2], dtype=int64)"
      ]
     },
     "execution_count": 71,
     "metadata": {},
     "output_type": "execute_result"
    }
   ],
   "source": [
    "np.argsort(arr)"
   ]
  },
  {
   "cell_type": "code",
   "execution_count": 72,
   "id": "525a22ce",
   "metadata": {},
   "outputs": [],
   "source": [
    "#Ćwiczenie\n",
    "\n",
    "#Posortuj wektor arr w sposób malejący, biorąc pod uwagę wyniki z drugiego egzaminu."
   ]
  },
  {
   "cell_type": "code",
   "execution_count": 93,
   "id": "6bef65b7",
   "metadata": {},
   "outputs": [],
   "source": [
    "x =np.sort(a,order='exam2')"
   ]
  },
  {
   "cell_type": "code",
   "execution_count": 94,
   "id": "50b34318",
   "metadata": {},
   "outputs": [
    {
     "data": {
      "text/plain": [
       "array([(b'Student C', 93, 44), (b'Student B', 85, 56),\n",
       "       (b'Student A', 89, 74), (b'Student D', 83, 92)],\n",
       "      dtype=[('student', 'S10'), ('exam1', '<i4'), ('exam2', '<i4')])"
      ]
     },
     "execution_count": 94,
     "metadata": {},
     "output_type": "execute_result"
    }
   ],
   "source": [
    "x"
   ]
  },
  {
   "cell_type": "code",
   "execution_count": 85,
   "id": "06a12c63",
   "metadata": {},
   "outputs": [],
   "source": [
    "x =np.sort(a,order='exam2')"
   ]
  },
  {
   "cell_type": "code",
   "execution_count": 97,
   "id": "c3b36569",
   "metadata": {},
   "outputs": [],
   "source": [
    "y = np.sort(a,order='exam2')\n",
    "z = list(reversed(y))"
   ]
  },
  {
   "cell_type": "code",
   "execution_count": 92,
   "id": "405028de",
   "metadata": {},
   "outputs": [
    {
     "data": {
      "text/plain": [
       "[(b'Student D', 83, 92),\n",
       " (b'Student A', 89, 74),\n",
       " (b'Student B', 85, 56),\n",
       " (b'Student C', 93, 44)]"
      ]
     },
     "execution_count": 92,
     "metadata": {},
     "output_type": "execute_result"
    }
   ],
   "source": [
    "z"
   ]
  },
  {
   "cell_type": "code",
   "execution_count": 98,
   "id": "7a60d4b2",
   "metadata": {},
   "outputs": [],
   "source": [
    "d =np.sort(a,order='exam2')[::-1]"
   ]
  },
  {
   "cell_type": "code",
   "execution_count": 99,
   "id": "2a4b0910",
   "metadata": {},
   "outputs": [
    {
     "data": {
      "text/plain": [
       "array([(b'Student D', 83, 92), (b'Student A', 89, 74),\n",
       "       (b'Student B', 85, 56), (b'Student C', 93, 44)],\n",
       "      dtype=[('student', 'S10'), ('exam1', '<i4'), ('exam2', '<i4')])"
      ]
     },
     "execution_count": 99,
     "metadata": {},
     "output_type": "execute_result"
    }
   ],
   "source": [
    "d"
   ]
  },
  {
   "cell_type": "code",
   "execution_count": null,
   "id": "df306078",
   "metadata": {},
   "outputs": [],
   "source": []
  }
 ],
 "metadata": {
  "kernelspec": {
   "display_name": "Python 3 (ipykernel)",
   "language": "python",
   "name": "python3"
  },
  "language_info": {
   "codemirror_mode": {
    "name": "ipython",
    "version": 3
   },
   "file_extension": ".py",
   "mimetype": "text/x-python",
   "name": "python",
   "nbconvert_exporter": "python",
   "pygments_lexer": "ipython3",
   "version": "3.9.4"
  }
 },
 "nbformat": 4,
 "nbformat_minor": 5
}
